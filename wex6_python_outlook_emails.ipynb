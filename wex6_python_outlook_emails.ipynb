{
 "cells": [
  {
   "cell_type": "code",
   "execution_count": 35,
   "metadata": {},
   "outputs": [],
   "source": [
    "import pandas as pd\n",
    "import numpy as np\n",
    "\n",
    "\n",
    "import datetime\n",
    "from datetime import timedelta\n",
    "\n",
    "import os.path\n",
    "import win32com.client as win32\n",
    "from pathlib import Path\n",
    "\n",
    "from IPython.core.display import HTML"
   ]
  },
  {
   "cell_type": "code",
   "execution_count": 36,
   "metadata": {},
   "outputs": [],
   "source": [
    "# Download file from Outlook\n",
    "outlook = win32.Dispatch('Outlook.Application').GetNameSpace('MAPI')\n",
    "folder = outlook.Folders['vince.chau@outlook.com'].Folders['Inbox']"
   ]
  },
  {
   "cell_type": "code",
   "execution_count": 37,
   "metadata": {},
   "outputs": [
    {
     "data": {
      "text/plain": [
       "'20200503'"
      ]
     },
     "execution_count": 37,
     "metadata": {},
     "output_type": "execute_result"
    }
   ],
   "source": [
    "tdate = datetime.datetime.today()\n",
    "strtoday = tdate.strftime('%Y%m%d')\n",
    "strtoday"
   ]
  },
  {
   "cell_type": "code",
   "execution_count": 47,
   "metadata": {},
   "outputs": [
    {
     "name": "stdout",
     "output_type": "stream",
     "text": [
      "20200503_test_data.xlsx\n"
     ]
    }
   ],
   "source": [
    "# List of emails in folder \n",
    "# Save it down\n",
    "# Note this does not overwrite the existing file - You need to delete the existing file if re-run\n",
    "for i in folder.Items:\n",
    "    received = i.ReceivedTime\n",
    "    subject = i.subject\n",
    "    num_attachments = i.attachments.count\n",
    "    strdate = received.strftime('%Y%m%d')\n",
    "    \n",
    "    if ('Test' in subject) and (strdate == strtoday):\n",
    "        for attachment in i.attachments:\n",
    "            filename = strdate + \"_\" + str(attachment)\n",
    "            print(filename)\n",
    "            def strRight(s, amount):\n",
    "                return s[-amount:]\n",
    "            if strRight(filename,4) == 'xlsx' and 'data' in filename:\n",
    "                #attachment.saveasfile(r\"C:\\\\\" + filename) \n",
    "                #r\"\\\\networkdrive.net\\sharedrives\\global\\t0_flash\\US\\\\\"\n",
    "                # if you do not specify a path: C:\\Users\\V\\Documents\\\n",
    "                attachment.saveasfile(r\"C:\\A\\Projects\\Python\\\\\" + filename)\n",
    "        break"
   ]
  },
  {
   "cell_type": "code",
   "execution_count": 48,
   "metadata": {},
   "outputs": [
    {
     "data": {
      "text/plain": [
       "datetime.date(2020, 5, 2)"
      ]
     },
     "execution_count": 48,
     "metadata": {},
     "output_type": "execute_result"
    }
   ],
   "source": [
    "# Create dates\n",
    "start_date = datetime.date.today() + datetime.timedelta(-1)\n",
    "end_date = datetime.date.today()\n",
    "\n",
    "start_date"
   ]
  },
  {
   "cell_type": "code",
   "execution_count": 58,
   "metadata": {},
   "outputs": [
    {
     "data": {
      "text/plain": [
       "['20200502', '20200503']"
      ]
     },
     "execution_count": 58,
     "metadata": {},
     "output_type": "execute_result"
    }
   ],
   "source": [
    "# Date Range\n",
    "daterange=[]\n",
    "day_count = (end_date - start_date).days + 1\n",
    "for single_date in [d for d in (start_date + timedelta(n) for n in range(day_count)) if d<= end_date]:\n",
    "    strdate = single_date.strftime('%Y%m%d')\n",
    "    daterange.append(strdate)\n",
    "\n",
    "strdate # '20200503'\n",
    "daterange # ['20200502', '20200503']"
   ]
  },
  {
   "cell_type": "code",
   "execution_count": 59,
   "metadata": {},
   "outputs": [
    {
     "data": {
      "text/plain": [
       "[WindowsPath('C:/A/Projects/Python/20200503_test_data.xlsx')]"
      ]
     },
     "execution_count": 59,
     "metadata": {},
     "output_type": "execute_result"
    }
   ],
   "source": [
    "# Path where you saved the files\n",
    "saved_dir = Path(r\"C:\\A\\Projects\\Python\\\\\")\n",
    "saved_files = list(saved_dir.glob(\"*.xlsx\"))\n",
    "saved_files"
   ]
  },
  {
   "cell_type": "code",
   "execution_count": 61,
   "metadata": {},
   "outputs": [
    {
     "name": "stdout",
     "output_type": "stream",
     "text": [
      "Import: ('C:\\\\A\\\\Projects\\\\Python', '20200503_test_data.xlsx')\n"
     ]
    },
    {
     "data": {
      "text/html": [
       "<div>\n",
       "<style scoped>\n",
       "    .dataframe tbody tr th:only-of-type {\n",
       "        vertical-align: middle;\n",
       "    }\n",
       "\n",
       "    .dataframe tbody tr th {\n",
       "        vertical-align: top;\n",
       "    }\n",
       "\n",
       "    .dataframe thead th {\n",
       "        text-align: right;\n",
       "    }\n",
       "</style>\n",
       "<table border=\"1\" class=\"dataframe\">\n",
       "  <thead>\n",
       "    <tr style=\"text-align: right;\">\n",
       "      <th></th>\n",
       "      <th>EXPOSURE</th>\n",
       "      <th>MTM_T</th>\n",
       "      <th>MTM_T_1</th>\n",
       "      <th>PROFIT_LOSS</th>\n",
       "      <th>DeskName</th>\n",
       "    </tr>\n",
       "  </thead>\n",
       "  <tbody>\n",
       "    <tr>\n",
       "      <td>4</td>\n",
       "      <td>Heineken</td>\n",
       "      <td>0.0</td>\n",
       "      <td>0.0</td>\n",
       "      <td>9595</td>\n",
       "      <td>Desk</td>\n",
       "    </tr>\n",
       "    <tr>\n",
       "      <td>6</td>\n",
       "      <td>McDonalds</td>\n",
       "      <td>0.0</td>\n",
       "      <td>0.0</td>\n",
       "      <td>9425</td>\n",
       "      <td>Desk</td>\n",
       "    </tr>\n",
       "    <tr>\n",
       "      <td>5</td>\n",
       "      <td>Lenovo</td>\n",
       "      <td>0.0</td>\n",
       "      <td>0.0</td>\n",
       "      <td>6136</td>\n",
       "      <td>Desk</td>\n",
       "    </tr>\n",
       "    <tr>\n",
       "      <td>3</td>\n",
       "      <td>Google</td>\n",
       "      <td>0.0</td>\n",
       "      <td>0.0</td>\n",
       "      <td>5931</td>\n",
       "      <td>Desk</td>\n",
       "    </tr>\n",
       "    <tr>\n",
       "      <td>1</td>\n",
       "      <td>Facebook</td>\n",
       "      <td>0.0</td>\n",
       "      <td>0.0</td>\n",
       "      <td>4896</td>\n",
       "      <td>Desk</td>\n",
       "    </tr>\n",
       "  </tbody>\n",
       "</table>\n",
       "</div>"
      ],
      "text/plain": [
       "    EXPOSURE  MTM_T  MTM_T_1  PROFIT_LOSS DeskName\n",
       "4   Heineken    0.0      0.0         9595     Desk\n",
       "6  McDonalds    0.0      0.0         9425     Desk\n",
       "5     Lenovo    0.0      0.0         6136     Desk\n",
       "3     Google    0.0      0.0         5931     Desk\n",
       "1   Facebook    0.0      0.0         4896     Desk"
      ]
     },
     "execution_count": 61,
     "metadata": {},
     "output_type": "execute_result"
    }
   ],
   "source": [
    "# Create dataframes and load files\n",
    "df_data = pd.DataFrame()\n",
    "sample_data=[]\n",
    "\n",
    "for file in saved_files:\n",
    "    # get the date from the file name\n",
    "    filename = os.path.split(file)\n",
    "    fdate = filename[1].split(\"_\")[0]\n",
    "    \n",
    "    if fdate == strdate:\n",
    "        print('Import: ' + str(filename))\n",
    "        xls = pd.ExcelFile(file)\n",
    "        dfxls = pd.ExcelFile(file)\n",
    "        \n",
    "        # Import sheet with name \"Sheet3\"\n",
    "        sample_data = pd.read_excel(dfxls, 'Sheet3')\n",
    "        # Looks for column COB_Date\n",
    "        sample_data['COB_Date'] = fdate\n",
    "        df_data = df_data.append(sample_data, sort=True)\n",
    "        pnlcol = [col for col in df_data.columns if 'P&L' in col or 'PnL' in col or 'PL' in col or 'pnl' in col]\n",
    "        # Find PnL Column\n",
    "        #i_pnl = df_data.columns.get_loc(pnlcol)\n",
    "        df_data = df_data.rename(columns={pnlcol[0]:'PnL'})\n",
    "        # Add classification\n",
    "        df_data['Product'] = 'Equities'\n",
    "        # Rename: uppercase everything\n",
    "        df_data = df_data.rename(columns = lambda x: str(x).upper())\n",
    "        # Rename: columns\n",
    "        df_data = df_data.rename(columns={'PNL': 'PROFIT_LOSS', 'POSITION': 'EXPOSURE'})\n",
    "        # Clean the dataset from any rows with Total in the Exposure column\n",
    "        df_data = df_data[~df_data['EXPOSURE'].str.contains('Total',na=False)]\n",
    "        \n",
    "        # choose top positions\n",
    "        desk_by_ticker = df_data.groupby(['EXPOSURE'],as_index=False).sum()\n",
    "        desk_by_ticker['DeskName'] = 'Desk'\n",
    "        top5 = desk_by_ticker.nlargest(5,'PROFIT_LOSS')\n",
    "        \n",
    "        # choose bottom positions\n",
    "        desk_by_ticker = df_data.groupby(['EXPOSURE'],as_index=False).sum()\n",
    "        desk_by_ticker['DeskName'] = 'Desk'\n",
    "        top5 = desk_by_ticker.nsmallest(5,'PROFIT_LOSS')\n",
    "        \n",
    "df_data"
   ]
  },
  {
   "cell_type": "code",
   "execution_count": 62,
   "metadata": {},
   "outputs": [
    {
     "data": {
      "text/html": [
       "<div>\n",
       "<style scoped>\n",
       "    .dataframe tbody tr th:only-of-type {\n",
       "        vertical-align: middle;\n",
       "    }\n",
       "\n",
       "    .dataframe tbody tr th {\n",
       "        vertical-align: top;\n",
       "    }\n",
       "\n",
       "    .dataframe thead th {\n",
       "        text-align: right;\n",
       "    }\n",
       "</style>\n",
       "<table border=\"1\" class=\"dataframe\">\n",
       "  <thead>\n",
       "    <tr style=\"text-align: right;\">\n",
       "      <th></th>\n",
       "      <th>EXPOSURE</th>\n",
       "      <th>MTM_T</th>\n",
       "      <th>MTM_T_1</th>\n",
       "      <th>PROFIT_LOSS</th>\n",
       "      <th>DeskName</th>\n",
       "    </tr>\n",
       "  </thead>\n",
       "  <tbody>\n",
       "    <tr>\n",
       "      <td>4</td>\n",
       "      <td>Heineken</td>\n",
       "      <td>0.0</td>\n",
       "      <td>0.0</td>\n",
       "      <td>9595</td>\n",
       "      <td>Desk</td>\n",
       "    </tr>\n",
       "    <tr>\n",
       "      <td>6</td>\n",
       "      <td>McDonalds</td>\n",
       "      <td>0.0</td>\n",
       "      <td>0.0</td>\n",
       "      <td>9425</td>\n",
       "      <td>Desk</td>\n",
       "    </tr>\n",
       "    <tr>\n",
       "      <td>5</td>\n",
       "      <td>Lenovo</td>\n",
       "      <td>0.0</td>\n",
       "      <td>0.0</td>\n",
       "      <td>6136</td>\n",
       "      <td>Desk</td>\n",
       "    </tr>\n",
       "    <tr>\n",
       "      <td>3</td>\n",
       "      <td>Google</td>\n",
       "      <td>0.0</td>\n",
       "      <td>0.0</td>\n",
       "      <td>5931</td>\n",
       "      <td>Desk</td>\n",
       "    </tr>\n",
       "    <tr>\n",
       "      <td>1</td>\n",
       "      <td>Facebook</td>\n",
       "      <td>0.0</td>\n",
       "      <td>0.0</td>\n",
       "      <td>4896</td>\n",
       "      <td>Desk</td>\n",
       "    </tr>\n",
       "  </tbody>\n",
       "</table>\n",
       "</div>"
      ],
      "text/plain": [
       "    EXPOSURE  MTM_T  MTM_T_1  PROFIT_LOSS DeskName\n",
       "4   Heineken    0.0      0.0         9595     Desk\n",
       "6  McDonalds    0.0      0.0         9425     Desk\n",
       "5     Lenovo    0.0      0.0         6136     Desk\n",
       "3     Google    0.0      0.0         5931     Desk\n",
       "1   Facebook    0.0      0.0         4896     Desk"
      ]
     },
     "execution_count": 62,
     "metadata": {},
     "output_type": "execute_result"
    }
   ],
   "source": [
    "top5"
   ]
  },
  {
   "cell_type": "code",
   "execution_count": null,
   "metadata": {},
   "outputs": [],
   "source": []
  }
 ],
 "metadata": {
  "kernelspec": {
   "display_name": "Python 3",
   "language": "python",
   "name": "python3"
  },
  "language_info": {
   "codemirror_mode": {
    "name": "ipython",
    "version": 3
   },
   "file_extension": ".py",
   "mimetype": "text/x-python",
   "name": "python",
   "nbconvert_exporter": "python",
   "pygments_lexer": "ipython3",
   "version": "3.7.4"
  }
 },
 "nbformat": 4,
 "nbformat_minor": 2
}
