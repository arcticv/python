{
 "cells": [
  {
   "cell_type": "code",
   "execution_count": 26,
   "metadata": {},
   "outputs": [],
   "source": [
    "# standard imports\n",
    "import pandas as pd\n",
    "import numpy as np\n",
    "import seaborn as sns\n",
    "import datetime\n",
    "import matplotlib.pyplot as plt\n",
    "%matplotlib inline\n",
    "\n",
    "# normal distribution\n",
    "from scipy.stats import norm\n",
    "\n",
    "# optimization and regression imports\n",
    "from scipy.optimize import minimize\n",
    "from scipy import stats\n",
    "\n",
    "# data imports\n",
    "import pandas_datareader as web\n",
    "# IEX data import\n",
    "import os\n",
    "os.environ[\"IEX_API_KEY\"] = \"pk_fef828374adf49fcb91d81ee18f3fc44\"\n",
    "# Quandl data import\n",
    "import quandl\n",
    "quandl.ApiConfig.api_key = \"zn5-6teANUU-aeaQrYoV\""
   ]
  },
  {
   "cell_type": "code",
   "execution_count": 27,
   "metadata": {},
   "outputs": [],
   "source": [
    "import time\n",
    "import matplotlib.style\n",
    "from scipy.optimize import minimize\n",
    "\n",
    "pd.options.mode.chained_assignment = None\n",
    "pd.set_option('display.max_columns', 10)\n",
    "np.set_printoptions(suppress=True)\n",
    "matplotlib.style.use('classic')\n"
   ]
  },
  {
   "cell_type": "code",
   "execution_count": 28,
   "metadata": {},
   "outputs": [
    {
     "name": "stdout",
     "output_type": "stream",
     "text": [
      "     con: array([], dtype=float64)\n",
      "     fun: -11.0\n",
      " message: 'Optimization terminated successfully.'\n",
      "     nit: 4\n",
      "   slack: array([0.])\n",
      "  status: 0\n",
      " success: True\n",
      "       x: array([1., 5.])\n",
      "\n",
      "result = -11.0\n",
      "num iterations = 4\n",
      "x0 = 1.0, x1= 5.0\n"
     ]
    }
   ],
   "source": [
    "# optimize.linprog always minimizes your target function. \n",
    "# If you want to maximize instead, you can use that max(f(x)) == -min(-f(x))\n",
    "\n",
    "\"\"\"\n",
    "1*x[1] + 2x[2] -> maximize\n",
    "\n",
    "1*x[1] + 0*x[2] <= 5   (bounds)\n",
    "0*x[1] + 1*x[2] <= 5   (bounds)\n",
    "1*x[1] + 0*x[2] >= 1   (bounds)\n",
    "0*x[1] + 1*x[2] >= 1   (bounds)\n",
    "\n",
    "1*x[1] + 1*x[2] <= 6   (constraint)\n",
    "\n",
    "\"\"\"\n",
    "from scipy import optimize\n",
    "\n",
    "result = optimize.linprog(\n",
    "    c = [-1, -2], \n",
    "    A_ub=[[1, 1]], \n",
    "    b_ub=[6],\n",
    "    bounds=(1, 5),\n",
    "    method='simplex'\n",
    ")\n",
    "\n",
    "print(result)\n",
    "print('\\nresult = {}'.format(result['fun']))\n",
    "print('num iterations = {}'.format(result['nit']))\n",
    "print('x0 = {}, x1= {}'.format(result['x'][0] , result['x'][1] ))"
   ]
  },
  {
   "cell_type": "code",
   "execution_count": 30,
   "metadata": {},
   "outputs": [
    {
     "name": "stdout",
     "output_type": "stream",
     "text": [
      "     con: array([], dtype=float64)\n",
      "     fun: -800.0\n",
      " message: 'Optimization terminated successfully.'\n",
      "     nit: 2\n",
      "   slack: array([  0.,   0., 210.])\n",
      "  status: 0\n",
      " success: True\n",
      "       x: array([12., 28.])\n",
      "\n",
      "result = -800.0\n",
      "num iterations = 2\n",
      "x0 = 11.999999999999998, x1= 28.0\n"
     ]
    }
   ],
   "source": [
    "# optimize.linprog always minimizes your target function. \n",
    "# If you want to maximize instead, you can use that max(f(x)) == -min(-f(x))\n",
    "\n",
    "\"\"\"\n",
    "13*x[1] + 23x[2] -> maximize\n",
    "\n",
    "5*x[1] + 15*x[2] <= 480 (constraint)\n",
    "4*x[1] + 4*x[2] <= 160 (constraint)\n",
    "35*x[1] + 20*x[2] <= 1190 (constraint)\n",
    "\n",
    "\"\"\"\n",
    "from scipy import optimize\n",
    "\n",
    "# linprog:\n",
    "# c: coefficients to be minimized (if maximize just multiply by -1)\n",
    "# ub: aX <= b\n",
    "# eq: aX = b\n",
    "# bounds: single tuple (min, max), Use None to indicate that there is no bound. Default: bounds are (0, None) (all decision variables are non-negative)\n",
    "\n",
    "result = optimize.linprog(\n",
    "    c = [-13, -23], \n",
    "    A_ub=[[5, 15],[4,4],[35,20]], \n",
    "    b_ub=[480,160,1190],\n",
    "    bounds=None,\n",
    "    method='revised simplex'\n",
    ")\n",
    "\n",
    "# output: \n",
    "# con = 1D array of results\n",
    "# fun = optimal value of the objective function\n",
    "print(result)\n",
    "\n",
    "\n",
    "print('\\nresult = {}'.format(result['fun']))\n",
    "print('num iterations = {}'.format(result['nit']))\n",
    "print('x0 = {}, x1= {}'.format(result['x'][0] , result['x'][1] ))"
   ]
  },
  {
   "cell_type": "code",
   "execution_count": null,
   "metadata": {},
   "outputs": [],
   "source": []
  },
  {
   "cell_type": "code",
   "execution_count": null,
   "metadata": {},
   "outputs": [],
   "source": []
  },
  {
   "cell_type": "code",
   "execution_count": 81,
   "metadata": {},
   "outputs": [
    {
     "name": "stdout",
     "output_type": "stream",
     "text": [
      "a\n"
     ]
    }
   ],
   "source": [
    "print('a')"
   ]
  },
  {
   "cell_type": "code",
   "execution_count": null,
   "metadata": {},
   "outputs": [],
   "source": []
  },
  {
   "cell_type": "code",
   "execution_count": null,
   "metadata": {},
   "outputs": [],
   "source": []
  },
  {
   "cell_type": "code",
   "execution_count": 5,
   "metadata": {},
   "outputs": [],
   "source": [
    "url = 'https://raw.githubusercontent.com/umachkaalex/random_optimization/master/pr_data_closes.csv'\n",
    "\n",
    "# load previous month data\n",
    "all_pr_data_closes = pd.read_csv(url)\n",
    "# delete columns (stocks) with zero closes\n",
    "all_pr_data_closes = all_pr_data_closes.replace(0, pd.np.nan).dropna(axis=1)\n",
    "# create list of Date column\n",
    "all_pr_tickers = all_pr_data_closes.columns.tolist()[:-1]\n",
    "# convert dataframes to numpy arrays without Date column\n",
    "all_pr_data_closes = all_pr_data_closes.values[:,:-1]\n",
    "\n",
    "pr_start_date = pd.to_datetime('11/30/2017')\n",
    "pr_end_date = pd.to_datetime('12/31/2017')\n"
   ]
  },
  {
   "cell_type": "code",
   "execution_count": 6,
   "metadata": {},
   "outputs": [],
   "source": [
    "# calculate sharpe ratio \n",
    "# (Return Portfolio minus Risk Free Rate) / Std Dev Portfolio\n"
   ]
  },
  {
   "cell_type": "code",
   "execution_count": 7,
   "metadata": {},
   "outputs": [],
   "source": [
    "# function to return sharpe ratio, CAGR (return), and standard deviation (risk)\n",
    "\n",
    "def calc_fin_indicators(portfolio_capital, start, end, rf_rate=0):\n",
    "    # define empty dictionary \n",
    "    fin_indicators = {}\n",
    "    \n",
    "    # calculate the number of years needed to calculate CAGR\n",
    "    pr_years = (end-start).days/365\n",
    "    \n",
    "    # calculate portfolio return at the end of the period divided by start of period\n",
    "    gain = portfolio_capital[-1] / portfolio_capital[0]\n",
    "    \n",
    "    # calculate CAGR\n",
    "    CAGR = (gain ** (1 / pr_years)) -1\n",
    "    \n",
    "    # calculate daily returns\n",
    "    daily_gain = np.diff(portfolio_capital, axis=0) / portfolio_capital[:-1]\n",
    "    \n",
    "    # calculate standard deviation\n",
    "    std = np.std(daily_gain, ddof=1)*np.sqrt(252)\n",
    "    \n",
    "    # calculate sharpe ratio\n",
    "    sr = (CAGR - rf_rate) / std\n",
    "    \n",
    "    # add parameters to dictionary\n",
    "    fin_indicators['sharpe'] = sr\n",
    "    fin_indicators['CAGR'] = CAGR\n",
    "    fin_indicators['std_dev'] = std\n",
    "    \n",
    "    return fin_indicators"
   ]
  },
  {
   "cell_type": "code",
   "execution_count": 8,
   "metadata": {},
   "outputs": [],
   "source": [
    "def portfolio_capital_flow(close_data, st_cap, weights):\n",
    "    # define the shape of closing price array\n",
    "    m_shape = close_data.shape\n",
    "    \n",
    "    # initialize empty array to store number of shares\n",
    "    num_shares_data = np.zeros(m_shape)\n",
    "    \n",
    "    # initialize empty array to store portfolio performance\n",
    "    capital_data = np.zeros(m_shape)\n",
    "    \n",
    "    # loop to calculate daily portfolio positions\n",
    "    for m in range(capital_data.shape[0]):\n",
    "        if m==0:\n",
    "            # first day of period, use initial value\n",
    "            cur_cap = st_cap\n",
    "            # distribute starting capital between stocks using list of weights\n",
    "            capital_data[m, :] = weights*cur_cap\n",
    "            # calculate number of shares held\n",
    "            num_shares_data[0,:] = capital_data[m,:]/close_data[m,:]\n",
    "        else:\n",
    "            # not first day of period, calculate portfolio performance\n",
    "            capital_data[m, :] = num_shares_data[0,:]*close_data\n",
    "            \n",
    "    # summarize performance\n",
    "    port_performance = np.sum(capital_data, axis=1)\n",
    "    return port_performance\n",
    "\n",
    "\n",
    "            "
   ]
  },
  {
   "cell_type": "code",
   "execution_count": null,
   "metadata": {},
   "outputs": [],
   "source": [
    "def algo_optimization(close_data, weights, st_cap, start, end, max_pos):\n",
    "    # objective function\n",
    "    def f(opt_w):\n",
    "        # calculate portfolio performance\n",
    "        "
   ]
  }
 ],
 "metadata": {
  "kernelspec": {
   "display_name": "Python 3",
   "language": "python",
   "name": "python3"
  },
  "language_info": {
   "codemirror_mode": {
    "name": "ipython",
    "version": 3
   },
   "file_extension": ".py",
   "mimetype": "text/x-python",
   "name": "python",
   "nbconvert_exporter": "python",
   "pygments_lexer": "ipython3",
   "version": "3.7.4"
  }
 },
 "nbformat": 4,
 "nbformat_minor": 2
}
