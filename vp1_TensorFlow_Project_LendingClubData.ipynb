{
 "cells": [
  {
   "cell_type": "code",
   "execution_count": 1,
   "metadata": {},
   "outputs": [],
   "source": [
    "# Project: Tensorflow Classification\n",
    "# Input: Lending Club Data\n",
    "# Output: Default or not\n",
    "\n",
    "import pandas as pd\n",
    "import numpy as np\n",
    "import seaborn as sns\n",
    "import matplotlib.pyplot as plt\n",
    "%matplotlib inline"
   ]
  },
  {
   "cell_type": "code",
   "execution_count": 2,
   "metadata": {},
   "outputs": [],
   "source": [
    "# read input data\n",
    "\n",
    "# description\n",
    "data_info = pd.read_csv('./data/lending_club_info.csv', index_col='LoanStatNew')\n",
    "\n",
    "def feat_info(col_name):\n",
    "    print(data_info.loc[col_name]['Description'])\n",
    "\n",
    "# loans\n",
    "df = pd.read_csv('./data/lending_club_loan_two.csv')"
   ]
  },
  {
   "cell_type": "code",
   "execution_count": 3,
   "metadata": {},
   "outputs": [
    {
     "name": "stdout",
     "output_type": "stream",
     "text": [
      "The monthly payment owed by the borrower if the loan originates.\n"
     ]
    }
   ],
   "source": [
    "# this function prints the description from lending_club-info to get a description of the columns\n",
    "feat_info('installment')\n",
    "\n",
    "# dti = A ratio calculated using the borrower’s total monthly debt payments on the total debt obligations, excluding mortgage and the requested LC loan, divided by the borrower’s self-reported monthly income.\n",
    "# initial_list_status = The initial listing status of the loan. Possible values are – W, F\n",
    "# mort_acc = Number of mortgage accounts.\n",
    "# initial_list_status = The initial listing status of the loan. Possible values are – W, F\n",
    "# installment = The monthly payment owed by the borrower if the loan originates."
   ]
  },
  {
   "cell_type": "code",
   "execution_count": 4,
   "metadata": {},
   "outputs": [
    {
     "data": {
      "text/html": [
       "<div>\n",
       "<style scoped>\n",
       "    .dataframe tbody tr th:only-of-type {\n",
       "        vertical-align: middle;\n",
       "    }\n",
       "\n",
       "    .dataframe tbody tr th {\n",
       "        vertical-align: top;\n",
       "    }\n",
       "\n",
       "    .dataframe thead th {\n",
       "        text-align: right;\n",
       "    }\n",
       "</style>\n",
       "<table border=\"1\" class=\"dataframe\">\n",
       "  <thead>\n",
       "    <tr style=\"text-align: right;\">\n",
       "      <th></th>\n",
       "      <th>count</th>\n",
       "      <th>mean</th>\n",
       "      <th>std</th>\n",
       "      <th>min</th>\n",
       "      <th>25%</th>\n",
       "      <th>50%</th>\n",
       "      <th>75%</th>\n",
       "      <th>max</th>\n",
       "    </tr>\n",
       "  </thead>\n",
       "  <tbody>\n",
       "    <tr>\n",
       "      <td>loan_amnt</td>\n",
       "      <td>396030.0</td>\n",
       "      <td>14113.888089</td>\n",
       "      <td>8357.441341</td>\n",
       "      <td>500.00</td>\n",
       "      <td>8000.00</td>\n",
       "      <td>12000.00</td>\n",
       "      <td>20000.00</td>\n",
       "      <td>40000.00</td>\n",
       "    </tr>\n",
       "    <tr>\n",
       "      <td>int_rate</td>\n",
       "      <td>396030.0</td>\n",
       "      <td>13.639400</td>\n",
       "      <td>4.472157</td>\n",
       "      <td>5.32</td>\n",
       "      <td>10.49</td>\n",
       "      <td>13.33</td>\n",
       "      <td>16.49</td>\n",
       "      <td>30.99</td>\n",
       "    </tr>\n",
       "    <tr>\n",
       "      <td>installment</td>\n",
       "      <td>396030.0</td>\n",
       "      <td>431.849698</td>\n",
       "      <td>250.727790</td>\n",
       "      <td>16.08</td>\n",
       "      <td>250.33</td>\n",
       "      <td>375.43</td>\n",
       "      <td>567.30</td>\n",
       "      <td>1533.81</td>\n",
       "    </tr>\n",
       "    <tr>\n",
       "      <td>annual_inc</td>\n",
       "      <td>396030.0</td>\n",
       "      <td>74203.175798</td>\n",
       "      <td>61637.621158</td>\n",
       "      <td>0.00</td>\n",
       "      <td>45000.00</td>\n",
       "      <td>64000.00</td>\n",
       "      <td>90000.00</td>\n",
       "      <td>8706582.00</td>\n",
       "    </tr>\n",
       "    <tr>\n",
       "      <td>dti</td>\n",
       "      <td>396030.0</td>\n",
       "      <td>17.379514</td>\n",
       "      <td>18.019092</td>\n",
       "      <td>0.00</td>\n",
       "      <td>11.28</td>\n",
       "      <td>16.91</td>\n",
       "      <td>22.98</td>\n",
       "      <td>9999.00</td>\n",
       "    </tr>\n",
       "    <tr>\n",
       "      <td>open_acc</td>\n",
       "      <td>396030.0</td>\n",
       "      <td>11.311153</td>\n",
       "      <td>5.137649</td>\n",
       "      <td>0.00</td>\n",
       "      <td>8.00</td>\n",
       "      <td>10.00</td>\n",
       "      <td>14.00</td>\n",
       "      <td>90.00</td>\n",
       "    </tr>\n",
       "    <tr>\n",
       "      <td>pub_rec</td>\n",
       "      <td>396030.0</td>\n",
       "      <td>0.178191</td>\n",
       "      <td>0.530671</td>\n",
       "      <td>0.00</td>\n",
       "      <td>0.00</td>\n",
       "      <td>0.00</td>\n",
       "      <td>0.00</td>\n",
       "      <td>86.00</td>\n",
       "    </tr>\n",
       "    <tr>\n",
       "      <td>revol_bal</td>\n",
       "      <td>396030.0</td>\n",
       "      <td>15844.539853</td>\n",
       "      <td>20591.836109</td>\n",
       "      <td>0.00</td>\n",
       "      <td>6025.00</td>\n",
       "      <td>11181.00</td>\n",
       "      <td>19620.00</td>\n",
       "      <td>1743266.00</td>\n",
       "    </tr>\n",
       "    <tr>\n",
       "      <td>revol_util</td>\n",
       "      <td>395754.0</td>\n",
       "      <td>53.791749</td>\n",
       "      <td>24.452193</td>\n",
       "      <td>0.00</td>\n",
       "      <td>35.80</td>\n",
       "      <td>54.80</td>\n",
       "      <td>72.90</td>\n",
       "      <td>892.30</td>\n",
       "    </tr>\n",
       "    <tr>\n",
       "      <td>total_acc</td>\n",
       "      <td>396030.0</td>\n",
       "      <td>25.414744</td>\n",
       "      <td>11.886991</td>\n",
       "      <td>2.00</td>\n",
       "      <td>17.00</td>\n",
       "      <td>24.00</td>\n",
       "      <td>32.00</td>\n",
       "      <td>151.00</td>\n",
       "    </tr>\n",
       "    <tr>\n",
       "      <td>mort_acc</td>\n",
       "      <td>358235.0</td>\n",
       "      <td>1.813991</td>\n",
       "      <td>2.147930</td>\n",
       "      <td>0.00</td>\n",
       "      <td>0.00</td>\n",
       "      <td>1.00</td>\n",
       "      <td>3.00</td>\n",
       "      <td>34.00</td>\n",
       "    </tr>\n",
       "    <tr>\n",
       "      <td>pub_rec_bankruptcies</td>\n",
       "      <td>395495.0</td>\n",
       "      <td>0.121648</td>\n",
       "      <td>0.356174</td>\n",
       "      <td>0.00</td>\n",
       "      <td>0.00</td>\n",
       "      <td>0.00</td>\n",
       "      <td>0.00</td>\n",
       "      <td>8.00</td>\n",
       "    </tr>\n",
       "  </tbody>\n",
       "</table>\n",
       "</div>"
      ],
      "text/plain": [
       "                         count          mean           std     min       25%  \\\n",
       "loan_amnt             396030.0  14113.888089   8357.441341  500.00   8000.00   \n",
       "int_rate              396030.0     13.639400      4.472157    5.32     10.49   \n",
       "installment           396030.0    431.849698    250.727790   16.08    250.33   \n",
       "annual_inc            396030.0  74203.175798  61637.621158    0.00  45000.00   \n",
       "dti                   396030.0     17.379514     18.019092    0.00     11.28   \n",
       "open_acc              396030.0     11.311153      5.137649    0.00      8.00   \n",
       "pub_rec               396030.0      0.178191      0.530671    0.00      0.00   \n",
       "revol_bal             396030.0  15844.539853  20591.836109    0.00   6025.00   \n",
       "revol_util            395754.0     53.791749     24.452193    0.00     35.80   \n",
       "total_acc             396030.0     25.414744     11.886991    2.00     17.00   \n",
       "mort_acc              358235.0      1.813991      2.147930    0.00      0.00   \n",
       "pub_rec_bankruptcies  395495.0      0.121648      0.356174    0.00      0.00   \n",
       "\n",
       "                           50%       75%         max  \n",
       "loan_amnt             12000.00  20000.00    40000.00  \n",
       "int_rate                 13.33     16.49       30.99  \n",
       "installment             375.43    567.30     1533.81  \n",
       "annual_inc            64000.00  90000.00  8706582.00  \n",
       "dti                      16.91     22.98     9999.00  \n",
       "open_acc                 10.00     14.00       90.00  \n",
       "pub_rec                   0.00      0.00       86.00  \n",
       "revol_bal             11181.00  19620.00  1743266.00  \n",
       "revol_util               54.80     72.90      892.30  \n",
       "total_acc                24.00     32.00      151.00  \n",
       "mort_acc                  1.00      3.00       34.00  \n",
       "pub_rec_bankruptcies      0.00      0.00        8.00  "
      ]
     },
     "execution_count": 4,
     "metadata": {},
     "output_type": "execute_result"
    }
   ],
   "source": [
    "# understand input data\n",
    "df.describe().transpose()"
   ]
  },
  {
   "cell_type": "code",
   "execution_count": 5,
   "metadata": {},
   "outputs": [
    {
     "name": "stdout",
     "output_type": "stream",
     "text": [
      "<class 'pandas.core.frame.DataFrame'>\n",
      "RangeIndex: 396030 entries, 0 to 396029\n",
      "Data columns (total 27 columns):\n",
      "loan_amnt               396030 non-null float64\n",
      "term                    396030 non-null object\n",
      "int_rate                396030 non-null float64\n",
      "installment             396030 non-null float64\n",
      "grade                   396030 non-null object\n",
      "sub_grade               396030 non-null object\n",
      "emp_title               373103 non-null object\n",
      "emp_length              377729 non-null object\n",
      "home_ownership          396030 non-null object\n",
      "annual_inc              396030 non-null float64\n",
      "verification_status     396030 non-null object\n",
      "issue_d                 396030 non-null object\n",
      "loan_status             396030 non-null object\n",
      "purpose                 396030 non-null object\n",
      "title                   394275 non-null object\n",
      "dti                     396030 non-null float64\n",
      "earliest_cr_line        396030 non-null object\n",
      "open_acc                396030 non-null float64\n",
      "pub_rec                 396030 non-null float64\n",
      "revol_bal               396030 non-null float64\n",
      "revol_util              395754 non-null float64\n",
      "total_acc               396030 non-null float64\n",
      "initial_list_status     396030 non-null object\n",
      "application_type        396030 non-null object\n",
      "mort_acc                358235 non-null float64\n",
      "pub_rec_bankruptcies    395495 non-null float64\n",
      "address                 396030 non-null object\n",
      "dtypes: float64(12), object(15)\n",
      "memory usage: 81.6+ MB\n"
     ]
    }
   ],
   "source": [
    "# df['emp_length'].isna().sum()\n",
    "# understand input data\n",
    "df.info()"
   ]
  },
  {
   "cell_type": "code",
   "execution_count": 6,
   "metadata": {},
   "outputs": [
    {
     "data": {
      "text/plain": [
       "<matplotlib.axes._subplots.AxesSubplot at 0x20c84b03e08>"
      ]
     },
     "execution_count": 6,
     "metadata": {},
     "output_type": "execute_result"
    },
    {
     "data": {
      "image/png": "[encoded data removed]",
      "text/plain": [
       "<Figure size 432x288 with 1 Axes>"
      ]
     },
     "metadata": {},
     "output_type": "display_data"
    }
   ],
   "source": [
    "# Visualize theoretical output\n",
    "sns.set_style('whitegrid')\n",
    "\n",
    "# check output data- who survived? \n",
    "sns.countplot(x='loan_status',data=df)\n",
    "\n",
    "# here the data is not 50/50 but is reasonable considering most folks do not default"
   ]
  },
  {
   "cell_type": "code",
   "execution_count": 7,
   "metadata": {},
   "outputs": [
    {
     "data": {
      "text/plain": [
       "<matplotlib.axes._subplots.AxesSubplot at 0x20c8570f248>"
      ]
     },
     "execution_count": 7,
     "metadata": {},
     "output_type": "execute_result"
    },
    {
     "data": {
      "image/png": "[encoded data removed]",
      "text/plain": [
       "<Figure size 720x360 with 1 Axes>"
      ]
     },
     "metadata": {},
     "output_type": "display_data"
    }
   ],
   "source": [
    "# visualize the size of the loan amounts\n",
    "plt.figure(figsize=(10,5))\n",
    "sns.distplot(df['loan_amnt'].dropna(), kde=False, bins=30)\n",
    "\n",
    "# notice the spikes at 10k, 15k, 20k which is reasonable considering standard loan sizes"
   ]
  },
  {
   "cell_type": "code",
   "execution_count": 8,
   "metadata": {},
   "outputs": [
    {
     "data": {
      "text/html": [
       "<div>\n",
       "<style scoped>\n",
       "    .dataframe tbody tr th:only-of-type {\n",
       "        vertical-align: middle;\n",
       "    }\n",
       "\n",
       "    .dataframe tbody tr th {\n",
       "        vertical-align: top;\n",
       "    }\n",
       "\n",
       "    .dataframe thead th {\n",
       "        text-align: right;\n",
       "    }\n",
       "</style>\n",
       "<table border=\"1\" class=\"dataframe\">\n",
       "  <thead>\n",
       "    <tr style=\"text-align: right;\">\n",
       "      <th></th>\n",
       "      <th>loan_amnt</th>\n",
       "      <th>int_rate</th>\n",
       "      <th>installment</th>\n",
       "      <th>annual_inc</th>\n",
       "      <th>dti</th>\n",
       "      <th>open_acc</th>\n",
       "      <th>pub_rec</th>\n",
       "      <th>revol_bal</th>\n",
       "      <th>revol_util</th>\n",
       "      <th>total_acc</th>\n",
       "      <th>mort_acc</th>\n",
       "      <th>pub_rec_bankruptcies</th>\n",
       "    </tr>\n",
       "  </thead>\n",
       "  <tbody>\n",
       "    <tr>\n",
       "      <td>loan_amnt</td>\n",
       "      <td>1.000000</td>\n",
       "      <td>0.168921</td>\n",
       "      <td>0.953929</td>\n",
       "      <td>0.336887</td>\n",
       "      <td>0.016636</td>\n",
       "      <td>0.198556</td>\n",
       "      <td>-0.077779</td>\n",
       "      <td>0.328320</td>\n",
       "      <td>0.099911</td>\n",
       "      <td>0.223886</td>\n",
       "      <td>0.222315</td>\n",
       "      <td>-0.106539</td>\n",
       "    </tr>\n",
       "    <tr>\n",
       "      <td>int_rate</td>\n",
       "      <td>0.168921</td>\n",
       "      <td>1.000000</td>\n",
       "      <td>0.162758</td>\n",
       "      <td>-0.056771</td>\n",
       "      <td>0.079038</td>\n",
       "      <td>0.011649</td>\n",
       "      <td>0.060986</td>\n",
       "      <td>-0.011280</td>\n",
       "      <td>0.293659</td>\n",
       "      <td>-0.036404</td>\n",
       "      <td>-0.082583</td>\n",
       "      <td>0.057450</td>\n",
       "    </tr>\n",
       "    <tr>\n",
       "      <td>installment</td>\n",
       "      <td>0.953929</td>\n",
       "      <td>0.162758</td>\n",
       "      <td>1.000000</td>\n",
       "      <td>0.330381</td>\n",
       "      <td>0.015786</td>\n",
       "      <td>0.188973</td>\n",
       "      <td>-0.067892</td>\n",
       "      <td>0.316455</td>\n",
       "      <td>0.123915</td>\n",
       "      <td>0.202430</td>\n",
       "      <td>0.193694</td>\n",
       "      <td>-0.098628</td>\n",
       "    </tr>\n",
       "    <tr>\n",
       "      <td>annual_inc</td>\n",
       "      <td>0.336887</td>\n",
       "      <td>-0.056771</td>\n",
       "      <td>0.330381</td>\n",
       "      <td>1.000000</td>\n",
       "      <td>-0.081685</td>\n",
       "      <td>0.136150</td>\n",
       "      <td>-0.013720</td>\n",
       "      <td>0.299773</td>\n",
       "      <td>0.027871</td>\n",
       "      <td>0.193023</td>\n",
       "      <td>0.236320</td>\n",
       "      <td>-0.050162</td>\n",
       "    </tr>\n",
       "    <tr>\n",
       "      <td>dti</td>\n",
       "      <td>0.016636</td>\n",
       "      <td>0.079038</td>\n",
       "      <td>0.015786</td>\n",
       "      <td>-0.081685</td>\n",
       "      <td>1.000000</td>\n",
       "      <td>0.136181</td>\n",
       "      <td>-0.017639</td>\n",
       "      <td>0.063571</td>\n",
       "      <td>0.088375</td>\n",
       "      <td>0.102128</td>\n",
       "      <td>-0.025439</td>\n",
       "      <td>-0.014558</td>\n",
       "    </tr>\n",
       "    <tr>\n",
       "      <td>open_acc</td>\n",
       "      <td>0.198556</td>\n",
       "      <td>0.011649</td>\n",
       "      <td>0.188973</td>\n",
       "      <td>0.136150</td>\n",
       "      <td>0.136181</td>\n",
       "      <td>1.000000</td>\n",
       "      <td>-0.018392</td>\n",
       "      <td>0.221192</td>\n",
       "      <td>-0.131420</td>\n",
       "      <td>0.680728</td>\n",
       "      <td>0.109205</td>\n",
       "      <td>-0.027732</td>\n",
       "    </tr>\n",
       "    <tr>\n",
       "      <td>pub_rec</td>\n",
       "      <td>-0.077779</td>\n",
       "      <td>0.060986</td>\n",
       "      <td>-0.067892</td>\n",
       "      <td>-0.013720</td>\n",
       "      <td>-0.017639</td>\n",
       "      <td>-0.018392</td>\n",
       "      <td>1.000000</td>\n",
       "      <td>-0.101664</td>\n",
       "      <td>-0.075910</td>\n",
       "      <td>0.019723</td>\n",
       "      <td>0.011552</td>\n",
       "      <td>0.699408</td>\n",
       "    </tr>\n",
       "    <tr>\n",
       "      <td>revol_bal</td>\n",
       "      <td>0.328320</td>\n",
       "      <td>-0.011280</td>\n",
       "      <td>0.316455</td>\n",
       "      <td>0.299773</td>\n",
       "      <td>0.063571</td>\n",
       "      <td>0.221192</td>\n",
       "      <td>-0.101664</td>\n",
       "      <td>1.000000</td>\n",
       "      <td>0.226346</td>\n",
       "      <td>0.191616</td>\n",
       "      <td>0.194925</td>\n",
       "      <td>-0.124532</td>\n",
       "    </tr>\n",
       "    <tr>\n",
       "      <td>revol_util</td>\n",
       "      <td>0.099911</td>\n",
       "      <td>0.293659</td>\n",
       "      <td>0.123915</td>\n",
       "      <td>0.027871</td>\n",
       "      <td>0.088375</td>\n",
       "      <td>-0.131420</td>\n",
       "      <td>-0.075910</td>\n",
       "      <td>0.226346</td>\n",
       "      <td>1.000000</td>\n",
       "      <td>-0.104273</td>\n",
       "      <td>0.007514</td>\n",
       "      <td>-0.086751</td>\n",
       "    </tr>\n",
       "    <tr>\n",
       "      <td>total_acc</td>\n",
       "      <td>0.223886</td>\n",
       "      <td>-0.036404</td>\n",
       "      <td>0.202430</td>\n",
       "      <td>0.193023</td>\n",
       "      <td>0.102128</td>\n",
       "      <td>0.680728</td>\n",
       "      <td>0.019723</td>\n",
       "      <td>0.191616</td>\n",
       "      <td>-0.104273</td>\n",
       "      <td>1.000000</td>\n",
       "      <td>0.381072</td>\n",
       "      <td>0.042035</td>\n",
       "    </tr>\n",
       "    <tr>\n",
       "      <td>mort_acc</td>\n",
       "      <td>0.222315</td>\n",
       "      <td>-0.082583</td>\n",
       "      <td>0.193694</td>\n",
       "      <td>0.236320</td>\n",
       "      <td>-0.025439</td>\n",
       "      <td>0.109205</td>\n",
       "      <td>0.011552</td>\n",
       "      <td>0.194925</td>\n",
       "      <td>0.007514</td>\n",
       "      <td>0.381072</td>\n",
       "      <td>1.000000</td>\n",
       "      <td>0.027239</td>\n",
       "    </tr>\n",
       "    <tr>\n",
       "      <td>pub_rec_bankruptcies</td>\n",
       "      <td>-0.106539</td>\n",
       "      <td>0.057450</td>\n",
       "      <td>-0.098628</td>\n",
       "      <td>-0.050162</td>\n",
       "      <td>-0.014558</td>\n",
       "      <td>-0.027732</td>\n",
       "      <td>0.699408</td>\n",
       "      <td>-0.124532</td>\n",
       "      <td>-0.086751</td>\n",
       "      <td>0.042035</td>\n",
       "      <td>0.027239</td>\n",
       "      <td>1.000000</td>\n",
       "    </tr>\n",
       "  </tbody>\n",
       "</table>\n",
       "</div>"
      ],
      "text/plain": [
       "                      loan_amnt  int_rate  installment  annual_inc       dti  \\\n",
       "loan_amnt              1.000000  0.168921     0.953929    0.336887  0.016636   \n",
       "int_rate               0.168921  1.000000     0.162758   -0.056771  0.079038   \n",
       "installment            0.953929  0.162758     1.000000    0.330381  0.015786   \n",
       "annual_inc             0.336887 -0.056771     0.330381    1.000000 -0.081685   \n",
       "dti                    0.016636  0.079038     0.015786   -0.081685  1.000000   \n",
       "open_acc               0.198556  0.011649     0.188973    0.136150  0.136181   \n",
       "pub_rec               -0.077779  0.060986    -0.067892   -0.013720 -0.017639   \n",
       "revol_bal              0.328320 -0.011280     0.316455    0.299773  0.063571   \n",
       "revol_util             0.099911  0.293659     0.123915    0.027871  0.088375   \n",
       "total_acc              0.223886 -0.036404     0.202430    0.193023  0.102128   \n",
       "mort_acc               0.222315 -0.082583     0.193694    0.236320 -0.025439   \n",
       "pub_rec_bankruptcies  -0.106539  0.057450    -0.098628   -0.050162 -0.014558   \n",
       "\n",
       "                      open_acc   pub_rec  revol_bal  revol_util  total_acc  \\\n",
       "loan_amnt             0.198556 -0.077779   0.328320    0.099911   0.223886   \n",
       "int_rate              0.011649  0.060986  -0.011280    0.293659  -0.036404   \n",
       "installment           0.188973 -0.067892   0.316455    0.123915   0.202430   \n",
       "annual_inc            0.136150 -0.013720   0.299773    0.027871   0.193023   \n",
       "dti                   0.136181 -0.017639   0.063571    0.088375   0.102128   \n",
       "open_acc              1.000000 -0.018392   0.221192   -0.131420   0.680728   \n",
       "pub_rec              -0.018392  1.000000  -0.101664   -0.075910   0.019723   \n",
       "revol_bal             0.221192 -0.101664   1.000000    0.226346   0.191616   \n",
       "revol_util           -0.131420 -0.075910   0.226346    1.000000  -0.104273   \n",
       "total_acc             0.680728  0.019723   0.191616   -0.104273   1.000000   \n",
       "mort_acc              0.109205  0.011552   0.194925    0.007514   0.381072   \n",
       "pub_rec_bankruptcies -0.027732  0.699408  -0.124532   -0.086751   0.042035   \n",
       "\n",
       "                      mort_acc  pub_rec_bankruptcies  \n",
       "loan_amnt             0.222315             -0.106539  \n",
       "int_rate             -0.082583              0.057450  \n",
       "installment           0.193694             -0.098628  \n",
       "annual_inc            0.236320             -0.050162  \n",
       "dti                  -0.025439             -0.014558  \n",
       "open_acc              0.109205             -0.027732  \n",
       "pub_rec               0.011552              0.699408  \n",
       "revol_bal             0.194925             -0.124532  \n",
       "revol_util            0.007514             -0.086751  \n",
       "total_acc             0.381072              0.042035  \n",
       "mort_acc              1.000000              0.027239  \n",
       "pub_rec_bankruptcies  0.027239              1.000000  "
      ]
     },
     "execution_count": 8,
     "metadata": {},
     "output_type": "execute_result"
    }
   ],
   "source": [
    "# Look at correlation between variables\n",
    "# Correlation Analysis (Among the variables)\n",
    "df.drop('loan_status', axis=1).corr()"
   ]
  },
  {
   "cell_type": "code",
   "execution_count": 9,
   "metadata": {},
   "outputs": [
    {
     "data": {
      "text/plain": [
       "(10, 0)"
      ]
     },
     "execution_count": 9,
     "metadata": {},
     "output_type": "execute_result"
    },
    {
     "data": {
      "image/png": "[encoded data removed]",
      "text/plain": [
       "<Figure size 864x720 with 2 Axes>"
      ]
     },
     "metadata": {},
     "output_type": "display_data"
    }
   ],
   "source": [
    "# Correlation Visualizaton\n",
    "# Correlation Heatmap\n",
    "plt.figure(figsize=(12,10))\n",
    "sns.heatmap(df.corr(),annot=True, cmap='viridis')\n",
    "plt.ylim(10,0)\n",
    "\n",
    "\n",
    "# notice loan amount and installment have almost perfect correlation"
   ]
  },
  {
   "cell_type": "code",
   "execution_count": 10,
   "metadata": {},
   "outputs": [
    {
     "data": {
      "text/plain": [
       "<matplotlib.axes._subplots.AxesSubplot at 0x20c85802808>"
      ]
     },
     "execution_count": 10,
     "metadata": {},
     "output_type": "execute_result"
    },
    {
     "data": {
      "image/png": "[encoded data removed]",
      "text/plain": [
       "<Figure size 432x288 with 1 Axes>"
      ]
     },
     "metadata": {},
     "output_type": "display_data"
    }
   ],
   "source": [
    "# next question: how correlated is installment vs loan amount?\n",
    "sns.scatterplot(x='installment',y='loan_amnt', data=df, alpha=0.5)"
   ]
  },
  {
   "cell_type": "code",
   "execution_count": 11,
   "metadata": {},
   "outputs": [
    {
     "data": {
      "image/png": "[encoded data removed]",
      "text/plain": [
       "<Figure size 432x288 with 1 Axes>"
      ]
     },
     "metadata": {},
     "output_type": "display_data"
    },
    {
     "data": {
      "text/html": [
       "<div>\n",
       "<style scoped>\n",
       "    .dataframe tbody tr th:only-of-type {\n",
       "        vertical-align: middle;\n",
       "    }\n",
       "\n",
       "    .dataframe tbody tr th {\n",
       "        vertical-align: top;\n",
       "    }\n",
       "\n",
       "    .dataframe thead th {\n",
       "        text-align: right;\n",
       "    }\n",
       "</style>\n",
       "<table border=\"1\" class=\"dataframe\">\n",
       "  <thead>\n",
       "    <tr style=\"text-align: right;\">\n",
       "      <th></th>\n",
       "      <th>count</th>\n",
       "      <th>mean</th>\n",
       "      <th>std</th>\n",
       "      <th>min</th>\n",
       "      <th>25%</th>\n",
       "      <th>50%</th>\n",
       "      <th>75%</th>\n",
       "      <th>max</th>\n",
       "    </tr>\n",
       "    <tr>\n",
       "      <th>loan_status</th>\n",
       "      <th></th>\n",
       "      <th></th>\n",
       "      <th></th>\n",
       "      <th></th>\n",
       "      <th></th>\n",
       "      <th></th>\n",
       "      <th></th>\n",
       "      <th></th>\n",
       "    </tr>\n",
       "  </thead>\n",
       "  <tbody>\n",
       "    <tr>\n",
       "      <td>Charged Off</td>\n",
       "      <td>77673.0</td>\n",
       "      <td>15126.300967</td>\n",
       "      <td>8505.090557</td>\n",
       "      <td>1000.0</td>\n",
       "      <td>8525.0</td>\n",
       "      <td>14000.0</td>\n",
       "      <td>20000.0</td>\n",
       "      <td>40000.0</td>\n",
       "    </tr>\n",
       "    <tr>\n",
       "      <td>Fully Paid</td>\n",
       "      <td>318357.0</td>\n",
       "      <td>13866.878771</td>\n",
       "      <td>8302.319699</td>\n",
       "      <td>500.0</td>\n",
       "      <td>7500.0</td>\n",
       "      <td>12000.0</td>\n",
       "      <td>19225.0</td>\n",
       "      <td>40000.0</td>\n",
       "    </tr>\n",
       "  </tbody>\n",
       "</table>\n",
       "</div>"
      ],
      "text/plain": [
       "                count          mean          std     min     25%      50%  \\\n",
       "loan_status                                                                 \n",
       "Charged Off   77673.0  15126.300967  8505.090557  1000.0  8525.0  14000.0   \n",
       "Fully Paid   318357.0  13866.878771  8302.319699   500.0  7500.0  12000.0   \n",
       "\n",
       "                 75%      max  \n",
       "loan_status                    \n",
       "Charged Off  20000.0  40000.0  \n",
       "Fully Paid   19225.0  40000.0  "
      ]
     },
     "execution_count": 11,
     "metadata": {},
     "output_type": "execute_result"
    }
   ],
   "source": [
    "# next question: are there certain loan sizes more prone to default?\n",
    "# Boxplot showing relationship between loan status and loan amount\n",
    "sns.boxplot(x=df['loan_status'], y=df['loan_amnt'])\n",
    "plt.show()\n",
    "\n",
    "# Create summary statistics for the loan amount, grouped by loan status\n",
    "df.groupby('loan_status')['loan_amnt'].describe()   # df['loan_amnt'].groupby(by=df['loan_status']).describe()\n",
    "\n",
    "# looks like if average loan amount is slightly higher then there is a chance of loan default (harder to pay back large loans)"
   ]
  },
  {
   "cell_type": "code",
   "execution_count": 12,
   "metadata": {},
   "outputs": [
    {
     "data": {
      "text/plain": [
       "array(['B4', 'B5', 'B3', 'A2', 'C5', 'C3', 'A1', 'B2', 'C1', 'A5', 'E4',\n",
       "       'A4', 'A3', 'D1', 'C2', 'B1', 'D3', 'D5', 'D2', 'E1', 'E2', 'E5',\n",
       "       'F4', 'E3', 'D4', 'G1', 'F5', 'G2', 'C4', 'F1', 'F3', 'G5', 'G4',\n",
       "       'F2', 'G3'], dtype=object)"
      ]
     },
     "execution_count": 12,
     "metadata": {},
     "output_type": "execute_result"
    }
   ],
   "source": [
    "# look at credit ratings for unique\n",
    "df['grade'].unique()\n",
    "df['sub_grade'].unique()"
   ]
  },
  {
   "cell_type": "code",
   "execution_count": 13,
   "metadata": {},
   "outputs": [
    {
     "data": {
      "text/plain": [
       "<matplotlib.axes._subplots.AxesSubplot at 0x20c865dc188>"
      ]
     },
     "execution_count": 13,
     "metadata": {},
     "output_type": "execute_result"
    },
    {
     "data": {
      "image/png": "[encoded data removed]",
      "text/plain": [
       "<Figure size 432x288 with 1 Axes>"
      ]
     },
     "metadata": {},
     "output_type": "display_data"
    }
   ],
   "source": [
    "# bar chart of counts by grade\n",
    "sns.countplot(x='grade',data=df,hue='loan_status')\n",
    "\n",
    "# looks like charge off increases as it gets higher"
   ]
  },
  {
   "cell_type": "code",
   "execution_count": 14,
   "metadata": {},
   "outputs": [
    {
     "data": {
      "text/plain": [
       "<matplotlib.axes._subplots.AxesSubplot at 0x20c8666d448>"
      ]
     },
     "execution_count": 14,
     "metadata": {},
     "output_type": "execute_result"
    },
    {
     "data": {
      "image/png": "[encoded data removed]",
      "text/plain": [
       "<Figure size 864x360 with 1 Axes>"
      ]
     },
     "metadata": {},
     "output_type": "display_data"
    }
   ],
   "source": [
    "plt.figure(figsize=(12,5))\n",
    "# create an order array for seaborn countplot\n",
    "sub_grade_order = sorted(df['sub_grade'].unique())\n",
    "sns.countplot(x='sub_grade',data=df,order=sub_grade_order, palette='coolwarm')"
   ]
  },
  {
   "cell_type": "code",
   "execution_count": 15,
   "metadata": {},
   "outputs": [
    {
     "data": {
      "text/plain": [
       "<matplotlib.axes._subplots.AxesSubplot at 0x20c86667ec8>"
      ]
     },
     "execution_count": 15,
     "metadata": {},
     "output_type": "execute_result"
    },
    {
     "data": {
      "image/png": "[encoded data removed]",
      "text/plain": [
       "<Figure size 864x360 with 1 Axes>"
      ]
     },
     "metadata": {},
     "output_type": "display_data"
    }
   ],
   "source": [
    "plt.figure(figsize=(12,5))\n",
    "# create an order array for seaborn countplot\n",
    "sub_grade_order = sorted(df['sub_grade'].unique())\n",
    "sns.countplot(x='sub_grade',data=df,order=sub_grade_order, palette='coolwarm',hue='loan_status')"
   ]
  },
  {
   "cell_type": "code",
   "execution_count": 16,
   "metadata": {},
   "outputs": [
    {
     "data": {
      "text/plain": [
       "<matplotlib.axes._subplots.AxesSubplot at 0x20c85830f08>"
      ]
     },
     "execution_count": 16,
     "metadata": {},
     "output_type": "execute_result"
    },
    {
     "data": {
      "image/png": "[encoded data removed]",
      "text/plain": [
       "<Figure size 864x360 with 1 Axes>"
      ]
     },
     "metadata": {},
     "output_type": "display_data"
    }
   ],
   "source": [
    "# zoom in on F and G\n",
    "plt.figure(figsize=(12,5))\n",
    "\n",
    "df2 = df[(df['grade']=='F') | (df['grade']=='G')]\n",
    "sub_grade_order = sorted(df2['sub_grade'].unique())\n",
    "\n",
    "# create an order array for seaborn countplot\n",
    "sns.countplot(x='sub_grade',data=df2, order=sub_grade_order, palette='coolwarm',hue='loan_status')"
   ]
  },
  {
   "cell_type": "markdown",
   "metadata": {},
   "source": [
    "# Data Exploration and Cleanup - how do they relate to output?"
   ]
  },
  {
   "cell_type": "code",
   "execution_count": 17,
   "metadata": {},
   "outputs": [],
   "source": [
    "# To Visualize the Correlation Between Label and Features\n",
    "# Modify Target Output from Text to 0 and 1\n",
    "# Loan Status text to 0/1 Integer\n",
    "\n",
    "# df['loan_status'].value_counts()\n",
    "# df['year'] = df['date'].apply(lambda date: date.year)\n",
    "df['loan_repaid'] = df['loan_status'].apply(lambda status: status=='Fully Paid')\n",
    "df['loan_repaid'] = df['loan_status'].apply(lambda x : 1 if (x == 'Fully Paid') else 0)\n",
    "df['loan_repaid'] = df['loan_status'].map({'Fully Paid':1,'Charged Off':0})"
   ]
  },
  {
   "cell_type": "code",
   "execution_count": 18,
   "metadata": {},
   "outputs": [
    {
     "data": {
      "text/plain": [
       "<matplotlib.axes._subplots.AxesSubplot at 0x20cf6b68488>"
      ]
     },
     "execution_count": 18,
     "metadata": {},
     "output_type": "execute_result"
    },
    {
     "data": {
      "image/png": "[encoded data removed]",
      "text/plain": [
       "<Figure size 432x288 with 1 Axes>"
      ]
     },
     "metadata": {},
     "output_type": "display_data"
    }
   ],
   "source": [
    "df.corr()['loan_repaid'].sort_values().drop('loan_repaid').plot(kind='bar')"
   ]
  },
  {
   "cell_type": "code",
   "execution_count": 19,
   "metadata": {},
   "outputs": [
    {
     "name": "stdout",
     "output_type": "stream",
     "text": [
      "Length of dataframe = 396030\n"
     ]
    }
   ],
   "source": [
    "# visualize nulls\n",
    "# need to remove missing data or fill missing data\n",
    "# remove any unnecessary or repetitive features\n",
    "# convert categorical string features to dummy variables\n",
    "df.head()\n",
    "print('Length of dataframe =', len(df))"
   ]
  },
  {
   "cell_type": "code",
   "execution_count": 20,
   "metadata": {},
   "outputs": [
    {
     "data": {
      "text/html": [
       "<div>\n",
       "<style scoped>\n",
       "    .dataframe tbody tr th:only-of-type {\n",
       "        vertical-align: middle;\n",
       "    }\n",
       "\n",
       "    .dataframe tbody tr th {\n",
       "        vertical-align: top;\n",
       "    }\n",
       "\n",
       "    .dataframe thead th {\n",
       "        text-align: right;\n",
       "    }\n",
       "</style>\n",
       "<table border=\"1\" class=\"dataframe\">\n",
       "  <thead>\n",
       "    <tr style=\"text-align: right;\">\n",
       "      <th></th>\n",
       "      <th>Number of Null</th>\n",
       "      <th>Percent Null (%)</th>\n",
       "    </tr>\n",
       "  </thead>\n",
       "  <tbody>\n",
       "    <tr>\n",
       "      <td>loan_amnt</td>\n",
       "      <td>0.0</td>\n",
       "      <td>0.000000</td>\n",
       "    </tr>\n",
       "    <tr>\n",
       "      <td>term</td>\n",
       "      <td>0.0</td>\n",
       "      <td>0.000000</td>\n",
       "    </tr>\n",
       "    <tr>\n",
       "      <td>int_rate</td>\n",
       "      <td>0.0</td>\n",
       "      <td>0.000000</td>\n",
       "    </tr>\n",
       "    <tr>\n",
       "      <td>installment</td>\n",
       "      <td>0.0</td>\n",
       "      <td>0.000000</td>\n",
       "    </tr>\n",
       "    <tr>\n",
       "      <td>grade</td>\n",
       "      <td>0.0</td>\n",
       "      <td>0.000000</td>\n",
       "    </tr>\n",
       "    <tr>\n",
       "      <td>sub_grade</td>\n",
       "      <td>0.0</td>\n",
       "      <td>0.000000</td>\n",
       "    </tr>\n",
       "    <tr>\n",
       "      <td>emp_title</td>\n",
       "      <td>22927.0</td>\n",
       "      <td>5.789208</td>\n",
       "    </tr>\n",
       "    <tr>\n",
       "      <td>emp_length</td>\n",
       "      <td>18301.0</td>\n",
       "      <td>4.621115</td>\n",
       "    </tr>\n",
       "    <tr>\n",
       "      <td>home_ownership</td>\n",
       "      <td>0.0</td>\n",
       "      <td>0.000000</td>\n",
       "    </tr>\n",
       "    <tr>\n",
       "      <td>annual_inc</td>\n",
       "      <td>0.0</td>\n",
       "      <td>0.000000</td>\n",
       "    </tr>\n",
       "    <tr>\n",
       "      <td>verification_status</td>\n",
       "      <td>0.0</td>\n",
       "      <td>0.000000</td>\n",
       "    </tr>\n",
       "    <tr>\n",
       "      <td>issue_d</td>\n",
       "      <td>0.0</td>\n",
       "      <td>0.000000</td>\n",
       "    </tr>\n",
       "    <tr>\n",
       "      <td>loan_status</td>\n",
       "      <td>0.0</td>\n",
       "      <td>0.000000</td>\n",
       "    </tr>\n",
       "    <tr>\n",
       "      <td>purpose</td>\n",
       "      <td>0.0</td>\n",
       "      <td>0.000000</td>\n",
       "    </tr>\n",
       "    <tr>\n",
       "      <td>title</td>\n",
       "      <td>1755.0</td>\n",
       "      <td>0.443148</td>\n",
       "    </tr>\n",
       "    <tr>\n",
       "      <td>dti</td>\n",
       "      <td>0.0</td>\n",
       "      <td>0.000000</td>\n",
       "    </tr>\n",
       "    <tr>\n",
       "      <td>earliest_cr_line</td>\n",
       "      <td>0.0</td>\n",
       "      <td>0.000000</td>\n",
       "    </tr>\n",
       "    <tr>\n",
       "      <td>open_acc</td>\n",
       "      <td>0.0</td>\n",
       "      <td>0.000000</td>\n",
       "    </tr>\n",
       "    <tr>\n",
       "      <td>pub_rec</td>\n",
       "      <td>0.0</td>\n",
       "      <td>0.000000</td>\n",
       "    </tr>\n",
       "    <tr>\n",
       "      <td>revol_bal</td>\n",
       "      <td>0.0</td>\n",
       "      <td>0.000000</td>\n",
       "    </tr>\n",
       "    <tr>\n",
       "      <td>revol_util</td>\n",
       "      <td>276.0</td>\n",
       "      <td>0.069692</td>\n",
       "    </tr>\n",
       "    <tr>\n",
       "      <td>total_acc</td>\n",
       "      <td>0.0</td>\n",
       "      <td>0.000000</td>\n",
       "    </tr>\n",
       "    <tr>\n",
       "      <td>initial_list_status</td>\n",
       "      <td>0.0</td>\n",
       "      <td>0.000000</td>\n",
       "    </tr>\n",
       "    <tr>\n",
       "      <td>application_type</td>\n",
       "      <td>0.0</td>\n",
       "      <td>0.000000</td>\n",
       "    </tr>\n",
       "    <tr>\n",
       "      <td>mort_acc</td>\n",
       "      <td>37795.0</td>\n",
       "      <td>9.543469</td>\n",
       "    </tr>\n",
       "    <tr>\n",
       "      <td>pub_rec_bankruptcies</td>\n",
       "      <td>535.0</td>\n",
       "      <td>0.135091</td>\n",
       "    </tr>\n",
       "    <tr>\n",
       "      <td>address</td>\n",
       "      <td>0.0</td>\n",
       "      <td>0.000000</td>\n",
       "    </tr>\n",
       "    <tr>\n",
       "      <td>loan_repaid</td>\n",
       "      <td>0.0</td>\n",
       "      <td>0.000000</td>\n",
       "    </tr>\n",
       "  </tbody>\n",
       "</table>\n",
       "</div>"
      ],
      "text/plain": [
       "                      Number of Null  Percent Null (%)\n",
       "loan_amnt                        0.0          0.000000\n",
       "term                             0.0          0.000000\n",
       "int_rate                         0.0          0.000000\n",
       "installment                      0.0          0.000000\n",
       "grade                            0.0          0.000000\n",
       "sub_grade                        0.0          0.000000\n",
       "emp_title                    22927.0          5.789208\n",
       "emp_length                   18301.0          4.621115\n",
       "home_ownership                   0.0          0.000000\n",
       "annual_inc                       0.0          0.000000\n",
       "verification_status              0.0          0.000000\n",
       "issue_d                          0.0          0.000000\n",
       "loan_status                      0.0          0.000000\n",
       "purpose                          0.0          0.000000\n",
       "title                         1755.0          0.443148\n",
       "dti                              0.0          0.000000\n",
       "earliest_cr_line                 0.0          0.000000\n",
       "open_acc                         0.0          0.000000\n",
       "pub_rec                          0.0          0.000000\n",
       "revol_bal                        0.0          0.000000\n",
       "revol_util                     276.0          0.069692\n",
       "total_acc                        0.0          0.000000\n",
       "initial_list_status              0.0          0.000000\n",
       "application_type                 0.0          0.000000\n",
       "mort_acc                     37795.0          9.543469\n",
       "pub_rec_bankruptcies           535.0          0.135091\n",
       "address                          0.0          0.000000\n",
       "loan_repaid                      0.0          0.000000"
      ]
     },
     "execution_count": 20,
     "metadata": {},
     "output_type": "execute_result"
    }
   ],
   "source": [
    "# Missing Data Analysis\n",
    "# Number of missing:\n",
    "df.isnull().sum()\n",
    "# Percentage missing:\n",
    "df.isnull().sum()/len(df)*100\n",
    "\n",
    "pd.DataFrame([df.isnull().sum(), (df.isnull().sum()/len(df)*100) ], index=['Number of Null','Percent Null (%)']).transpose()"
   ]
  },
  {
   "cell_type": "code",
   "execution_count": null,
   "metadata": {},
   "outputs": [],
   "source": []
  },
  {
   "cell_type": "code",
   "execution_count": 21,
   "metadata": {},
   "outputs": [
    {
     "data": {
      "text/plain": [
       "<matplotlib.axes._subplots.AxesSubplot at 0x20c85a58408>"
      ]
     },
     "execution_count": 21,
     "metadata": {},
     "output_type": "execute_result"
    },
    {
     "data": {
      "image/png": "[encoded data removed]",
      "text/plain": [
       "<Figure size 720x360 with 1 Axes>"
      ]
     },
     "metadata": {},
     "output_type": "display_data"
    }
   ],
   "source": [
    "# Missing Data Analysis\n",
    "# Null heatmap\n",
    "plt.figure(figsize=(10,5))\n",
    "sns.heatmap(df.isnull(),yticklabels=False,cbar=False,cmap='viridis')"
   ]
  },
  {
   "cell_type": "code",
   "execution_count": 22,
   "metadata": {},
   "outputs": [
    {
     "data": {
      "text/plain": [
       "Teacher                                           4389\n",
       "Manager                                           4250\n",
       "Registered Nurse                                  1856\n",
       "RN                                                1846\n",
       "Supervisor                                        1830\n",
       "                                                  ... \n",
       "GO NISSAN 104TH                                      1\n",
       "Regulatory Advisor                                   1\n",
       "CBS Studios, Inc                                     1\n",
       "General Dynamics Armament & Technical Products       1\n",
       "GIS Support Specialist                               1\n",
       "Name: emp_title, Length: 173105, dtype: int64"
      ]
     },
     "execution_count": 22,
     "metadata": {},
     "output_type": "execute_result"
    }
   ],
   "source": [
    "# looks like there are 396030 entries\n",
    "# and a number of them have null\n",
    "\"\"\"\n",
    "emp_title               373103 non-null object\n",
    "emp_length              377729 non-null object\n",
    "title                   394275 non-null object\n",
    "revol_util              395754 non-null float64\n",
    "mort_acc                358235 non-null float64\n",
    "pub_rec_bankruptcies    395495 non-null float64\n",
    "\"\"\"\n",
    "\n",
    "# are we going to drop it or fill it with something? \n",
    "# depends if it is interesting or not\n",
    "df['emp_title'].nunique() # 173000 unique employment titles\n",
    "df['emp_title'].value_counts() \n",
    "# future: could map to high income job or low income jobs\n",
    "# for now: just drop it"
   ]
  },
  {
   "cell_type": "code",
   "execution_count": 23,
   "metadata": {},
   "outputs": [],
   "source": [
    "# Drop emp_title\n",
    "df = df.drop('emp_title', axis = 1)"
   ]
  },
  {
   "cell_type": "code",
   "execution_count": null,
   "metadata": {},
   "outputs": [],
   "source": []
  },
  {
   "cell_type": "code",
   "execution_count": 24,
   "metadata": {},
   "outputs": [
    {
     "data": {
      "text/plain": [
       "<matplotlib.axes._subplots.AxesSubplot at 0x20c85a893c8>"
      ]
     },
     "execution_count": 24,
     "metadata": {},
     "output_type": "execute_result"
    },
    {
     "data": {
      "image/png": "[encoded data removed]",
      "text/plain": [
       "<Figure size 720x360 with 1 Axes>"
      ]
     },
     "metadata": {},
     "output_type": "display_data"
    }
   ],
   "source": [
    "# Next one: emp_length\n",
    "# get a list of unique values and then plot them by count, plot will be ordered\n",
    "\n",
    "df['emp_length'].value_counts()\n",
    "# df['emp_length'].isna().sum() # 18301\n",
    "\"\"\"\n",
    "10+ years    126041\n",
    "2 years       35827\n",
    "< 1 year      31725\n",
    "3 years       31665\n",
    "5 years       26495\n",
    "1 year        25882\n",
    "4 years       23952\n",
    "6 years       20841\n",
    "7 years       20819\n",
    "8 years       19168\n",
    "9 years       15314\n",
    "NaN 18301\n",
    "\"\"\"\n",
    "\n",
    "# run this to get a list:\n",
    "sorted(df['emp_length'].dropna().unique())\n",
    "# ['1 year','10+ years','2 years','3 years','4 years','5 years','6 years','7 years','8 years','9 years','< 1 year']\n",
    "\n",
    "# we run the above and take above output list and paste it here, and then we re-order it manually:\n",
    "emp_length_order = ['< 1 year', '1 year',\n",
    " '2 years',\n",
    " '3 years',\n",
    " '4 years',\n",
    " '5 years',\n",
    " '6 years',\n",
    " '7 years',\n",
    " '8 years',\n",
    " '9 years',\n",
    "'10+ years']\n",
    "\n",
    "# count plot seaborn\n",
    "plt.figure(figsize=(10,5))\n",
    "sns.countplot(x='emp_length', data=df, order=emp_length_order) # looks like most borrowers have been working a long time"
   ]
  },
  {
   "cell_type": "code",
   "execution_count": 25,
   "metadata": {},
   "outputs": [
    {
     "data": {
      "text/plain": [
       "<matplotlib.axes._subplots.AxesSubplot at 0x20c8466e9c8>"
      ]
     },
     "execution_count": 25,
     "metadata": {},
     "output_type": "execute_result"
    },
    {
     "data": {
      "image/png": "[encoded data removed]",
      "text/plain": [
       "<Figure size 720x360 with 1 Axes>"
      ]
     },
     "metadata": {},
     "output_type": "display_data"
    }
   ],
   "source": [
    "# redo above chart with hue to differentiate folks who default\n",
    "plt.figure(figsize=(10,5))\n",
    "emp_length_order = ['< 1 year', '1 year',\n",
    " '2 years',\n",
    " '3 years',\n",
    " '4 years',\n",
    " '5 years',\n",
    " '6 years',\n",
    " '7 years',\n",
    " '8 years',\n",
    " '9 years',\n",
    "'10+ years']\n",
    "sns.countplot(x='emp_length', data=df, hue='loan_status', order=emp_length_order)\n",
    "\n",
    "# chart does not say much - do ratio analysis"
   ]
  },
  {
   "cell_type": "code",
   "execution_count": 26,
   "metadata": {},
   "outputs": [
    {
     "data": {
      "text/html": [
       "<div>\n",
       "<style scoped>\n",
       "    .dataframe tbody tr th:only-of-type {\n",
       "        vertical-align: middle;\n",
       "    }\n",
       "\n",
       "    .dataframe tbody tr th {\n",
       "        vertical-align: top;\n",
       "    }\n",
       "\n",
       "    .dataframe thead th {\n",
       "        text-align: right;\n",
       "    }\n",
       "</style>\n",
       "<table border=\"1\" class=\"dataframe\">\n",
       "  <thead>\n",
       "    <tr style=\"text-align: right;\">\n",
       "      <th></th>\n",
       "      <th>loan_amnt</th>\n",
       "      <th>term</th>\n",
       "      <th>int_rate</th>\n",
       "      <th>installment</th>\n",
       "      <th>grade</th>\n",
       "      <th>sub_grade</th>\n",
       "      <th>home_ownership</th>\n",
       "      <th>annual_inc</th>\n",
       "      <th>verification_status</th>\n",
       "      <th>issue_d</th>\n",
       "      <th>...</th>\n",
       "      <th>pub_rec</th>\n",
       "      <th>revol_bal</th>\n",
       "      <th>revol_util</th>\n",
       "      <th>total_acc</th>\n",
       "      <th>initial_list_status</th>\n",
       "      <th>application_type</th>\n",
       "      <th>mort_acc</th>\n",
       "      <th>pub_rec_bankruptcies</th>\n",
       "      <th>address</th>\n",
       "      <th>loan_repaid</th>\n",
       "    </tr>\n",
       "    <tr>\n",
       "      <th>emp_length</th>\n",
       "      <th></th>\n",
       "      <th></th>\n",
       "      <th></th>\n",
       "      <th></th>\n",
       "      <th></th>\n",
       "      <th></th>\n",
       "      <th></th>\n",
       "      <th></th>\n",
       "      <th></th>\n",
       "      <th></th>\n",
       "      <th></th>\n",
       "      <th></th>\n",
       "      <th></th>\n",
       "      <th></th>\n",
       "      <th></th>\n",
       "      <th></th>\n",
       "      <th></th>\n",
       "      <th></th>\n",
       "      <th></th>\n",
       "      <th></th>\n",
       "      <th></th>\n",
       "    </tr>\n",
       "  </thead>\n",
       "  <tbody>\n",
       "    <tr>\n",
       "      <td>1 year</td>\n",
       "      <td>20728</td>\n",
       "      <td>20728</td>\n",
       "      <td>20728</td>\n",
       "      <td>20728</td>\n",
       "      <td>20728</td>\n",
       "      <td>20728</td>\n",
       "      <td>20728</td>\n",
       "      <td>20728</td>\n",
       "      <td>20728</td>\n",
       "      <td>20728</td>\n",
       "      <td>...</td>\n",
       "      <td>20728</td>\n",
       "      <td>20728</td>\n",
       "      <td>20712</td>\n",
       "      <td>20728</td>\n",
       "      <td>20728</td>\n",
       "      <td>20728</td>\n",
       "      <td>18126</td>\n",
       "      <td>20666</td>\n",
       "      <td>20728</td>\n",
       "      <td>20728</td>\n",
       "    </tr>\n",
       "    <tr>\n",
       "      <td>10+ years</td>\n",
       "      <td>102826</td>\n",
       "      <td>102826</td>\n",
       "      <td>102826</td>\n",
       "      <td>102826</td>\n",
       "      <td>102826</td>\n",
       "      <td>102826</td>\n",
       "      <td>102826</td>\n",
       "      <td>102826</td>\n",
       "      <td>102826</td>\n",
       "      <td>102826</td>\n",
       "      <td>...</td>\n",
       "      <td>102826</td>\n",
       "      <td>102826</td>\n",
       "      <td>102766</td>\n",
       "      <td>102826</td>\n",
       "      <td>102826</td>\n",
       "      <td>102826</td>\n",
       "      <td>95511</td>\n",
       "      <td>102753</td>\n",
       "      <td>102826</td>\n",
       "      <td>102826</td>\n",
       "    </tr>\n",
       "    <tr>\n",
       "      <td>2 years</td>\n",
       "      <td>28903</td>\n",
       "      <td>28903</td>\n",
       "      <td>28903</td>\n",
       "      <td>28903</td>\n",
       "      <td>28903</td>\n",
       "      <td>28903</td>\n",
       "      <td>28903</td>\n",
       "      <td>28903</td>\n",
       "      <td>28903</td>\n",
       "      <td>28903</td>\n",
       "      <td>...</td>\n",
       "      <td>28903</td>\n",
       "      <td>28903</td>\n",
       "      <td>28886</td>\n",
       "      <td>28903</td>\n",
       "      <td>28903</td>\n",
       "      <td>28903</td>\n",
       "      <td>25355</td>\n",
       "      <td>28848</td>\n",
       "      <td>28903</td>\n",
       "      <td>28903</td>\n",
       "    </tr>\n",
       "    <tr>\n",
       "      <td>3 years</td>\n",
       "      <td>25483</td>\n",
       "      <td>25483</td>\n",
       "      <td>25483</td>\n",
       "      <td>25483</td>\n",
       "      <td>25483</td>\n",
       "      <td>25483</td>\n",
       "      <td>25483</td>\n",
       "      <td>25483</td>\n",
       "      <td>25483</td>\n",
       "      <td>25483</td>\n",
       "      <td>...</td>\n",
       "      <td>25483</td>\n",
       "      <td>25483</td>\n",
       "      <td>25468</td>\n",
       "      <td>25483</td>\n",
       "      <td>25483</td>\n",
       "      <td>25483</td>\n",
       "      <td>22220</td>\n",
       "      <td>25437</td>\n",
       "      <td>25483</td>\n",
       "      <td>25483</td>\n",
       "    </tr>\n",
       "    <tr>\n",
       "      <td>4 years</td>\n",
       "      <td>19344</td>\n",
       "      <td>19344</td>\n",
       "      <td>19344</td>\n",
       "      <td>19344</td>\n",
       "      <td>19344</td>\n",
       "      <td>19344</td>\n",
       "      <td>19344</td>\n",
       "      <td>19344</td>\n",
       "      <td>19344</td>\n",
       "      <td>19344</td>\n",
       "      <td>...</td>\n",
       "      <td>19344</td>\n",
       "      <td>19344</td>\n",
       "      <td>19333</td>\n",
       "      <td>19344</td>\n",
       "      <td>19344</td>\n",
       "      <td>19344</td>\n",
       "      <td>16526</td>\n",
       "      <td>19321</td>\n",
       "      <td>19344</td>\n",
       "      <td>19344</td>\n",
       "    </tr>\n",
       "    <tr>\n",
       "      <td>5 years</td>\n",
       "      <td>21403</td>\n",
       "      <td>21403</td>\n",
       "      <td>21403</td>\n",
       "      <td>21403</td>\n",
       "      <td>21403</td>\n",
       "      <td>21403</td>\n",
       "      <td>21403</td>\n",
       "      <td>21403</td>\n",
       "      <td>21403</td>\n",
       "      <td>21403</td>\n",
       "      <td>...</td>\n",
       "      <td>21403</td>\n",
       "      <td>21403</td>\n",
       "      <td>21391</td>\n",
       "      <td>21403</td>\n",
       "      <td>21403</td>\n",
       "      <td>21403</td>\n",
       "      <td>18691</td>\n",
       "      <td>21381</td>\n",
       "      <td>21403</td>\n",
       "      <td>21403</td>\n",
       "    </tr>\n",
       "    <tr>\n",
       "      <td>6 years</td>\n",
       "      <td>16898</td>\n",
       "      <td>16898</td>\n",
       "      <td>16898</td>\n",
       "      <td>16898</td>\n",
       "      <td>16898</td>\n",
       "      <td>16898</td>\n",
       "      <td>16898</td>\n",
       "      <td>16898</td>\n",
       "      <td>16898</td>\n",
       "      <td>16898</td>\n",
       "      <td>...</td>\n",
       "      <td>16898</td>\n",
       "      <td>16898</td>\n",
       "      <td>16884</td>\n",
       "      <td>16898</td>\n",
       "      <td>16898</td>\n",
       "      <td>16898</td>\n",
       "      <td>15002</td>\n",
       "      <td>16878</td>\n",
       "      <td>16898</td>\n",
       "      <td>16898</td>\n",
       "    </tr>\n",
       "    <tr>\n",
       "      <td>7 years</td>\n",
       "      <td>16764</td>\n",
       "      <td>16764</td>\n",
       "      <td>16764</td>\n",
       "      <td>16764</td>\n",
       "      <td>16764</td>\n",
       "      <td>16764</td>\n",
       "      <td>16764</td>\n",
       "      <td>16764</td>\n",
       "      <td>16764</td>\n",
       "      <td>16764</td>\n",
       "      <td>...</td>\n",
       "      <td>16764</td>\n",
       "      <td>16764</td>\n",
       "      <td>16747</td>\n",
       "      <td>16764</td>\n",
       "      <td>16764</td>\n",
       "      <td>16764</td>\n",
       "      <td>15284</td>\n",
       "      <td>16751</td>\n",
       "      <td>16764</td>\n",
       "      <td>16764</td>\n",
       "    </tr>\n",
       "    <tr>\n",
       "      <td>8 years</td>\n",
       "      <td>15339</td>\n",
       "      <td>15339</td>\n",
       "      <td>15339</td>\n",
       "      <td>15339</td>\n",
       "      <td>15339</td>\n",
       "      <td>15339</td>\n",
       "      <td>15339</td>\n",
       "      <td>15339</td>\n",
       "      <td>15339</td>\n",
       "      <td>15339</td>\n",
       "      <td>...</td>\n",
       "      <td>15339</td>\n",
       "      <td>15339</td>\n",
       "      <td>15327</td>\n",
       "      <td>15339</td>\n",
       "      <td>15339</td>\n",
       "      <td>15339</td>\n",
       "      <td>14142</td>\n",
       "      <td>15323</td>\n",
       "      <td>15339</td>\n",
       "      <td>15339</td>\n",
       "    </tr>\n",
       "    <tr>\n",
       "      <td>9 years</td>\n",
       "      <td>12244</td>\n",
       "      <td>12244</td>\n",
       "      <td>12244</td>\n",
       "      <td>12244</td>\n",
       "      <td>12244</td>\n",
       "      <td>12244</td>\n",
       "      <td>12244</td>\n",
       "      <td>12244</td>\n",
       "      <td>12244</td>\n",
       "      <td>12244</td>\n",
       "      <td>...</td>\n",
       "      <td>12244</td>\n",
       "      <td>12244</td>\n",
       "      <td>12235</td>\n",
       "      <td>12244</td>\n",
       "      <td>12244</td>\n",
       "      <td>12244</td>\n",
       "      <td>11192</td>\n",
       "      <td>12233</td>\n",
       "      <td>12244</td>\n",
       "      <td>12244</td>\n",
       "    </tr>\n",
       "    <tr>\n",
       "      <td>&lt; 1 year</td>\n",
       "      <td>25162</td>\n",
       "      <td>25162</td>\n",
       "      <td>25162</td>\n",
       "      <td>25162</td>\n",
       "      <td>25162</td>\n",
       "      <td>25162</td>\n",
       "      <td>25162</td>\n",
       "      <td>25162</td>\n",
       "      <td>25162</td>\n",
       "      <td>25162</td>\n",
       "      <td>...</td>\n",
       "      <td>25162</td>\n",
       "      <td>25162</td>\n",
       "      <td>25139</td>\n",
       "      <td>25162</td>\n",
       "      <td>25162</td>\n",
       "      <td>25162</td>\n",
       "      <td>21629</td>\n",
       "      <td>25055</td>\n",
       "      <td>25162</td>\n",
       "      <td>25162</td>\n",
       "    </tr>\n",
       "  </tbody>\n",
       "</table>\n",
       "<p>11 rows × 26 columns</p>\n",
       "</div>"
      ],
      "text/plain": [
       "            loan_amnt    term  int_rate  installment   grade  sub_grade  \\\n",
       "emp_length                                                                \n",
       "1 year          20728   20728     20728        20728   20728      20728   \n",
       "10+ years      102826  102826    102826       102826  102826     102826   \n",
       "2 years         28903   28903     28903        28903   28903      28903   \n",
       "3 years         25483   25483     25483        25483   25483      25483   \n",
       "4 years         19344   19344     19344        19344   19344      19344   \n",
       "5 years         21403   21403     21403        21403   21403      21403   \n",
       "6 years         16898   16898     16898        16898   16898      16898   \n",
       "7 years         16764   16764     16764        16764   16764      16764   \n",
       "8 years         15339   15339     15339        15339   15339      15339   \n",
       "9 years         12244   12244     12244        12244   12244      12244   \n",
       "< 1 year        25162   25162     25162        25162   25162      25162   \n",
       "\n",
       "            home_ownership  annual_inc  verification_status  issue_d  ...  \\\n",
       "emp_length                                                            ...   \n",
       "1 year               20728       20728                20728    20728  ...   \n",
       "10+ years           102826      102826               102826   102826  ...   \n",
       "2 years              28903       28903                28903    28903  ...   \n",
       "3 years              25483       25483                25483    25483  ...   \n",
       "4 years              19344       19344                19344    19344  ...   \n",
       "5 years              21403       21403                21403    21403  ...   \n",
       "6 years              16898       16898                16898    16898  ...   \n",
       "7 years              16764       16764                16764    16764  ...   \n",
       "8 years              15339       15339                15339    15339  ...   \n",
       "9 years              12244       12244                12244    12244  ...   \n",
       "< 1 year             25162       25162                25162    25162  ...   \n",
       "\n",
       "            pub_rec  revol_bal  revol_util  total_acc  initial_list_status  \\\n",
       "emp_length                                                                   \n",
       "1 year        20728      20728       20712      20728                20728   \n",
       "10+ years    102826     102826      102766     102826               102826   \n",
       "2 years       28903      28903       28886      28903                28903   \n",
       "3 years       25483      25483       25468      25483                25483   \n",
       "4 years       19344      19344       19333      19344                19344   \n",
       "5 years       21403      21403       21391      21403                21403   \n",
       "6 years       16898      16898       16884      16898                16898   \n",
       "7 years       16764      16764       16747      16764                16764   \n",
       "8 years       15339      15339       15327      15339                15339   \n",
       "9 years       12244      12244       12235      12244                12244   \n",
       "< 1 year      25162      25162       25139      25162                25162   \n",
       "\n",
       "            application_type  mort_acc  pub_rec_bankruptcies  address  \\\n",
       "emp_length                                                              \n",
       "1 year                 20728     18126                 20666    20728   \n",
       "10+ years             102826     95511                102753   102826   \n",
       "2 years                28903     25355                 28848    28903   \n",
       "3 years                25483     22220                 25437    25483   \n",
       "4 years                19344     16526                 19321    19344   \n",
       "5 years                21403     18691                 21381    21403   \n",
       "6 years                16898     15002                 16878    16898   \n",
       "7 years                16764     15284                 16751    16764   \n",
       "8 years                15339     14142                 15323    15339   \n",
       "9 years                12244     11192                 12233    12244   \n",
       "< 1 year               25162     21629                 25055    25162   \n",
       "\n",
       "            loan_repaid  \n",
       "emp_length               \n",
       "1 year            20728  \n",
       "10+ years        102826  \n",
       "2 years           28903  \n",
       "3 years           25483  \n",
       "4 years           19344  \n",
       "5 years           21403  \n",
       "6 years           16898  \n",
       "7 years           16764  \n",
       "8 years           15339  \n",
       "9 years           12244  \n",
       "< 1 year          25162  \n",
       "\n",
       "[11 rows x 26 columns]"
      ]
     },
     "execution_count": 26,
     "metadata": {},
     "output_type": "execute_result"
    }
   ],
   "source": [
    "# ratio analysis\n",
    "# want to build percent of people per category\n",
    "\n",
    "# first filter on loan_status, then groupby emp_length, then count to get each number of the columns (above chart)\n",
    "\n",
    "df[df['loan_status']=='Charged Off'].groupby('emp_length').count()\n",
    "df[df['loan_status']=='Fully Paid'].groupby('emp_length').count()"
   ]
  },
  {
   "cell_type": "code",
   "execution_count": 27,
   "metadata": {},
   "outputs": [
    {
     "data": {
      "text/html": [
       "<div>\n",
       "<style scoped>\n",
       "    .dataframe tbody tr th:only-of-type {\n",
       "        vertical-align: middle;\n",
       "    }\n",
       "\n",
       "    .dataframe tbody tr th {\n",
       "        vertical-align: top;\n",
       "    }\n",
       "\n",
       "    .dataframe thead th {\n",
       "        text-align: right;\n",
       "    }\n",
       "</style>\n",
       "<table border=\"1\" class=\"dataframe\">\n",
       "  <thead>\n",
       "    <tr style=\"text-align: right;\">\n",
       "      <th></th>\n",
       "      <th>Charged Off</th>\n",
       "      <th>Fully Paid</th>\n",
       "      <th>Charged Off Percent</th>\n",
       "    </tr>\n",
       "    <tr>\n",
       "      <th>emp_length</th>\n",
       "      <th></th>\n",
       "      <th></th>\n",
       "      <th></th>\n",
       "    </tr>\n",
       "  </thead>\n",
       "  <tbody>\n",
       "    <tr>\n",
       "      <td>1 year</td>\n",
       "      <td>5154.0</td>\n",
       "      <td>20728.0</td>\n",
       "      <td>0.199135</td>\n",
       "    </tr>\n",
       "    <tr>\n",
       "      <td>10+ years</td>\n",
       "      <td>23215.0</td>\n",
       "      <td>102826.0</td>\n",
       "      <td>0.184186</td>\n",
       "    </tr>\n",
       "    <tr>\n",
       "      <td>2 years</td>\n",
       "      <td>6924.0</td>\n",
       "      <td>28903.0</td>\n",
       "      <td>0.193262</td>\n",
       "    </tr>\n",
       "    <tr>\n",
       "      <td>3 years</td>\n",
       "      <td>6182.0</td>\n",
       "      <td>25483.0</td>\n",
       "      <td>0.195231</td>\n",
       "    </tr>\n",
       "    <tr>\n",
       "      <td>4 years</td>\n",
       "      <td>4608.0</td>\n",
       "      <td>19344.0</td>\n",
       "      <td>0.192385</td>\n",
       "    </tr>\n",
       "    <tr>\n",
       "      <td>5 years</td>\n",
       "      <td>5092.0</td>\n",
       "      <td>21403.0</td>\n",
       "      <td>0.192187</td>\n",
       "    </tr>\n",
       "    <tr>\n",
       "      <td>6 years</td>\n",
       "      <td>3943.0</td>\n",
       "      <td>16898.0</td>\n",
       "      <td>0.189194</td>\n",
       "    </tr>\n",
       "    <tr>\n",
       "      <td>7 years</td>\n",
       "      <td>4055.0</td>\n",
       "      <td>16764.0</td>\n",
       "      <td>0.194774</td>\n",
       "    </tr>\n",
       "    <tr>\n",
       "      <td>8 years</td>\n",
       "      <td>3829.0</td>\n",
       "      <td>15339.0</td>\n",
       "      <td>0.199760</td>\n",
       "    </tr>\n",
       "    <tr>\n",
       "      <td>9 years</td>\n",
       "      <td>3070.0</td>\n",
       "      <td>12244.0</td>\n",
       "      <td>0.200470</td>\n",
       "    </tr>\n",
       "    <tr>\n",
       "      <td>&lt; 1 year</td>\n",
       "      <td>6563.0</td>\n",
       "      <td>25162.0</td>\n",
       "      <td>0.206872</td>\n",
       "    </tr>\n",
       "  </tbody>\n",
       "</table>\n",
       "</div>"
      ],
      "text/plain": [
       "            Charged Off  Fully Paid  Charged Off Percent\n",
       "emp_length                                              \n",
       "1 year           5154.0     20728.0             0.199135\n",
       "10+ years       23215.0    102826.0             0.184186\n",
       "2 years          6924.0     28903.0             0.193262\n",
       "3 years          6182.0     25483.0             0.195231\n",
       "4 years          4608.0     19344.0             0.192385\n",
       "5 years          5092.0     21403.0             0.192187\n",
       "6 years          3943.0     16898.0             0.189194\n",
       "7 years          4055.0     16764.0             0.194774\n",
       "8 years          3829.0     15339.0             0.199760\n",
       "9 years          3070.0     12244.0             0.200470\n",
       "< 1 year         6563.0     25162.0             0.206872"
      ]
     },
     "execution_count": 27,
     "metadata": {},
     "output_type": "execute_result"
    },
    {
     "data": {
      "image/png": "[encoded data removed]",
      "text/plain": [
       "<Figure size 432x288 with 1 Axes>"
      ]
     },
     "metadata": {},
     "output_type": "display_data"
    }
   ],
   "source": [
    "# first filter on loan_status, then groupby emp_length, then count to get each number of the columns (above chart)\n",
    "# second grab column loan_status\n",
    "emp_charged_off = df[df['loan_status']=='Charged Off'].groupby('emp_length').count()['loan_status']\n",
    "emp_fully_paid = df[df['loan_status']=='Fully Paid'].groupby('emp_length').count()['loan_status']\n",
    "emp_ratio = emp_charged_off/(emp_charged_off+emp_fully_paid) # note this is percent of total rather than A:B it is A / (A+B)\n",
    "emp_ratio_df = pd.DataFrame([emp_charged_off, emp_fully_paid, emp_ratio],\n",
    "                          index=['Charged Off', 'Fully Paid', 'Charged Off Percent']\n",
    "                         )\n",
    "\n",
    "# here is the previous calculation\n",
    "def emp_length_extraction(term_text):\n",
    "    if term_text == '0':\n",
    "        return 0\n",
    "    else:\n",
    "        temp_num = term_text.split()[0]\n",
    "        if temp_num == '<':\n",
    "            return 6\n",
    "        elif temp_num == '10+':\n",
    "            return 120\n",
    "        else:\n",
    "            return int(temp_num)*12\n",
    "# df['emp_length'].fillna(value='0', inplace=True)    \n",
    "# df['emp_length_values'] = df['emp_length'].apply(emp_length_extraction)\n",
    "# df['emp_length_values'].value_counts()\n",
    "\n",
    "emp_ratio.transpose().plot(kind='bar') \n",
    "emp_ratio_df.transpose()\n",
    "# looks like 20% regardless of emp_length, so not useful info, so do not keep the feature"
   ]
  },
  {
   "cell_type": "code",
   "execution_count": 28,
   "metadata": {},
   "outputs": [],
   "source": [
    "# drop the feature\n",
    "df.drop(['emp_length'], axis=1, inplace=True)"
   ]
  },
  {
   "cell_type": "code",
   "execution_count": 29,
   "metadata": {},
   "outputs": [],
   "source": [
    "# looked at title vs purpose (same info)\n",
    "df = df.drop('title', axis=1)"
   ]
  },
  {
   "cell_type": "markdown",
   "metadata": {},
   "source": [
    "# FILLING MISSING DATA"
   ]
  },
  {
   "cell_type": "code",
   "execution_count": 30,
   "metadata": {},
   "outputs": [
    {
     "data": {
      "text/plain": [
       "int_rate               -0.082583\n",
       "dti                    -0.025439\n",
       "revol_util              0.007514\n",
       "pub_rec                 0.011552\n",
       "pub_rec_bankruptcies    0.027239\n",
       "loan_repaid             0.073111\n",
       "open_acc                0.109205\n",
       "installment             0.193694\n",
       "revol_bal               0.194925\n",
       "loan_amnt               0.222315\n",
       "annual_inc              0.236320\n",
       "total_acc               0.381072\n",
       "mort_acc                1.000000\n",
       "Name: mort_acc, dtype: float64"
      ]
     },
     "execution_count": 30,
     "metadata": {},
     "output_type": "execute_result"
    }
   ],
   "source": [
    "# mort_acc has 10% missing data\n",
    "\n",
    "# so, what do we do with this column?\n",
    "# if you dropna then you drop 10% of data - is not very good\n",
    "# if you drop the feature then you have to be careful not to lose good info...\n",
    "\n",
    "# so if we fill with value, what is a reasonable way to fill in the data? look for other features are highly correlated\n",
    "\n",
    "df.corr()['mort_acc'].sort_values()\n",
    "# looks like a positive correlation with \"total_acc\" feature\n",
    "\n",
    "# next step: \n",
    "# use the average of mortgage accounts per total accounts to fill in the missing data"
   ]
  },
  {
   "cell_type": "code",
   "execution_count": 31,
   "metadata": {},
   "outputs": [
    {
     "data": {
      "text/plain": [
       "total_acc\n",
       "2.0      0.000000\n",
       "3.0      0.052023\n",
       "4.0      0.066743\n",
       "5.0      0.103289\n",
       "6.0      0.151293\n",
       "           ...   \n",
       "124.0    1.000000\n",
       "129.0    1.000000\n",
       "135.0    3.000000\n",
       "150.0    2.000000\n",
       "151.0    0.000000\n",
       "Name: mort_acc, Length: 118, dtype: float64"
      ]
     },
     "execution_count": 31,
     "metadata": {},
     "output_type": "execute_result"
    }
   ],
   "source": [
    "# so first analyze total account information\n",
    "df.groupby('total_acc').mean()\n",
    "\n",
    "# take this total account info and focus on number of mortgage accounts\n",
    "df.groupby('total_acc').mean()['mort_acc']\n",
    "\n",
    "# this will be the lookup table used to fill in mort_acc:"
   ]
  },
  {
   "cell_type": "code",
   "execution_count": 32,
   "metadata": {},
   "outputs": [],
   "source": [
    "# fill in mort_acc missing values with a mapping table you created above\n",
    "missing_data_map_total_acc = df.groupby('total_acc').mean()['mort_acc']\n",
    "# how to use the mapping table:\n",
    "missing_data_map_total_acc[2.0] # returns 0.0 like the above\n",
    "\n",
    "# this is a helper function that checks if NaN, if it is then return the mapping table output, otherwise return mort_acc #\n",
    "def fill_mort_acc(total_acc, mort_acc):\n",
    "    '''\n",
    "    Accepts the total_acc and mort_acc values for the row.\n",
    "    Checks if the mort_acc is NaN , if so, it returns the avg mort_acc value\n",
    "    for the corresponding total_acc value for that row.\n",
    "    \n",
    "    total_acc_avg here should be a Series or dictionary containing the mapping of the\n",
    "    groupby averages of mort_acc per total_acc values.\n",
    "    '''\n",
    "    if np.isnan(mort_acc):\n",
    "        return missing_data_map_total_acc[total_acc] # this maps to the table above\n",
    "    else:\n",
    "        return mort_acc\n",
    "\n",
    "# this executes the filling function which uses the mapping table function, axis=1 because column\n",
    "# helpful: https://stackoverflow.com/questions/13331698/how-to-apply-a-function-to-two-columns-of-pandas-dataframe\n",
    "df['mort_acc'] = df.apply(lambda x: fill_mort_acc(x['total_acc'],x['mort_acc']), axis=1)"
   ]
  },
  {
   "cell_type": "code",
   "execution_count": 33,
   "metadata": {},
   "outputs": [
    {
     "data": {
      "text/plain": [
       "loan_amnt                 0\n",
       "term                      0\n",
       "int_rate                  0\n",
       "installment               0\n",
       "grade                     0\n",
       "sub_grade                 0\n",
       "home_ownership            0\n",
       "annual_inc                0\n",
       "verification_status       0\n",
       "issue_d                   0\n",
       "loan_status               0\n",
       "purpose                   0\n",
       "dti                       0\n",
       "earliest_cr_line          0\n",
       "open_acc                  0\n",
       "pub_rec                   0\n",
       "revol_bal                 0\n",
       "revol_util              276\n",
       "total_acc                 0\n",
       "initial_list_status       0\n",
       "application_type          0\n",
       "mort_acc                  0\n",
       "pub_rec_bankruptcies    535\n",
       "address                   0\n",
       "loan_repaid               0\n",
       "dtype: int64"
      ]
     },
     "execution_count": 33,
     "metadata": {},
     "output_type": "execute_result"
    }
   ],
   "source": [
    "df.isnull().sum()"
   ]
  },
  {
   "cell_type": "code",
   "execution_count": 34,
   "metadata": {},
   "outputs": [],
   "source": [
    "# 2 more nulls to investigate\n",
    "\n",
    "# i use fillna=0 but solutions use dropna because small number of rows\n",
    "\"\"\"\n",
    "df['revol_util'].fillna(value=0,inplace=True)\n",
    "df['mort_acc'].fillna(value=0,inplace=True)\n",
    "df['pub_rec_bankruptcies'].fillna(value=0,inplace=True)\n",
    "\"\"\"\n",
    "# drop empty values for 'revol_util' and 'pub_rec_bankruptcies' \n",
    "# do not need to drop the feature but just drop the rows that have NaN\n",
    "df = df.dropna()\n",
    "\n",
    "# my own model: \n",
    "# drop all the other columns\n",
    "# df.drop(['home_ownership','address','emp_title','title','purpose', 'earliest_cr_line','initial_list_status'], axis=1, inplace=True)"
   ]
  },
  {
   "cell_type": "code",
   "execution_count": 35,
   "metadata": {},
   "outputs": [
    {
     "data": {
      "text/plain": [
       "loan_amnt               0\n",
       "term                    0\n",
       "int_rate                0\n",
       "installment             0\n",
       "grade                   0\n",
       "sub_grade               0\n",
       "home_ownership          0\n",
       "annual_inc              0\n",
       "verification_status     0\n",
       "issue_d                 0\n",
       "loan_status             0\n",
       "purpose                 0\n",
       "dti                     0\n",
       "earliest_cr_line        0\n",
       "open_acc                0\n",
       "pub_rec                 0\n",
       "revol_bal               0\n",
       "revol_util              0\n",
       "total_acc               0\n",
       "initial_list_status     0\n",
       "application_type        0\n",
       "mort_acc                0\n",
       "pub_rec_bankruptcies    0\n",
       "address                 0\n",
       "loan_repaid             0\n",
       "dtype: int64"
      ]
     },
     "execution_count": 35,
     "metadata": {},
     "output_type": "execute_result"
    }
   ],
   "source": [
    "# should be all zero now\n",
    "df.isnull().sum()  # df.isna().sum() might work too but isnull seems more comprehensive"
   ]
  },
  {
   "cell_type": "markdown",
   "metadata": {},
   "source": [
    "# Categorical Data and String Data"
   ]
  },
  {
   "cell_type": "code",
   "execution_count": 36,
   "metadata": {},
   "outputs": [
    {
     "data": {
      "text/plain": [
       "Index(['term', 'grade', 'sub_grade', 'home_ownership', 'verification_status',\n",
       "       'issue_d', 'loan_status', 'purpose', 'earliest_cr_line',\n",
       "       'initial_list_status', 'application_type', 'address'],\n",
       "      dtype='object')"
      ]
     },
     "execution_count": 36,
     "metadata": {},
     "output_type": "execute_result"
    }
   ],
   "source": [
    "# First step: determine which features are not values\n",
    "df.select_dtypes(['object']).columns"
   ]
  },
  {
   "cell_type": "code",
   "execution_count": 37,
   "metadata": {},
   "outputs": [],
   "source": [
    "# term\n",
    "# remove months text and convert to integer 36 and 60\n",
    "# method 1 = create manual mapping table\n",
    "# method 2 = grab 2 characters\n",
    "df['term'].value_counts()\n",
    "\"\"\"\n",
    "36 months\n",
    "60 months\n",
    "\"\"\"\n",
    "\n",
    "def month_extraction(term_text):\n",
    "    return int(term_text.split()[0])\n",
    "\n",
    "# another way = df['term'] = df['term'].apply(lambda term: int(term[:3]))\n",
    "df['term'] = df['term'].apply(month_extraction)\n",
    "\n",
    "# run this to check if did it properly:\n",
    "# df['term'].value_counts()"
   ]
  },
  {
   "cell_type": "code",
   "execution_count": 38,
   "metadata": {},
   "outputs": [],
   "source": [
    "# grade\n",
    "# grade already covered by sub_grade so drop it\n",
    "df = df.drop('grade', axis=1)\n"
   ]
  },
  {
   "cell_type": "code",
   "execution_count": 39,
   "metadata": {},
   "outputs": [],
   "source": [
    "# sub_grade (first run - not used but example code here anyway)\n",
    "# convert sub_grade to dummy variables using a mapping function\n",
    "# this might be wrong because not really a continous variable?\n",
    "\n",
    "# sub grade might be better than grade\n",
    "df['sub_grade'].value_counts()\n",
    "\"\"\"\n",
    "B3    26655\n",
    "B4    25601\n",
    "C1    23662\n",
    "C2    22580\n",
    "B2    22495\n",
    "B5    22085\n",
    "C3    21221\n",
    "C4    20280\n",
    "B1    19182\n",
    "A5    18526\n",
    "C5    18244\n",
    "F5     1397\n",
    "G1     1058\n",
    "G2      754\n",
    "G3      552\n",
    "G4      374\n",
    "G5      316\n",
    "\"\"\"\n",
    "\n",
    "# my way (not used in second run): \n",
    "def grade_extraction(term_text):\n",
    "    grade_letter = term_text[0]\n",
    "    if grade_letter == 'A':\n",
    "        return int(term_text[1])\n",
    "    elif grade_letter == 'B':\n",
    "        return 10 + int(term_text[1])\n",
    "    elif grade_letter == 'C':\n",
    "        return 20 + int(term_text[1])\n",
    "    elif grade_letter == 'D':\n",
    "        return 30 + int(term_text[1])\n",
    "    elif grade_letter == 'E':\n",
    "        return 40 + int(term_text[1])\n",
    "    elif grade_letter == 'F':\n",
    "        return 50 + int(term_text[1])\n",
    "    else:\n",
    "        return 60 + int(term_text[1])\n",
    "    \n",
    "df['sub_grade_values'] = df['sub_grade'].apply(grade_extraction)\n",
    "\n",
    "# drop columns because not used in second run:\n",
    "df.drop(['sub_grade_values'], axis=1, inplace=True)"
   ]
  },
  {
   "cell_type": "code",
   "execution_count": 40,
   "metadata": {},
   "outputs": [],
   "source": [
    "# sub_grade (second run)\n",
    "# convert to dummy variables using one hot encoding\n",
    "\n",
    "# use pandas dummy variables to add new columns to original dataframe, drop original sub_grade column \n",
    "# and add drop_first - do not need to duplicate information\n",
    "# A/B/C --> _/1/0 because A is implicitly encoded\n",
    "dummies = pd.get_dummies(df['sub_grade'], drop_first=True)\n",
    "\n",
    "# REMOVE the sub_grade column THEN concat to original dataframe\n",
    "df = pd.concat([df.drop('sub_grade', axis=1), dummies], axis=1)"
   ]
  },
  {
   "cell_type": "code",
   "execution_count": 41,
   "metadata": {},
   "outputs": [],
   "source": [
    "# more dummy variables:\n",
    "# verification_status, appliction_type, initial_list_status, purpose\n",
    "# mass create dummy variables since low unique values\n",
    "\n",
    "df['purpose'].value_counts() # only 15 unique values -> 15 unique columns\n",
    "\n",
    "# use pandas dummy variables to add new columns to original dataframe, drop original column \n",
    "dummies = pd.get_dummies(df[['verification_status', 'application_type', 'initial_list_status', 'purpose']], drop_first=True)\n",
    "\n",
    "# REMOVE the sub_grade column THEN concat to original dataframe\n",
    "df = pd.concat([df.drop(['verification_status', 'application_type', 'initial_list_status', 'purpose'], axis=1), \n",
    "                dummies], axis=1)"
   ]
  },
  {
   "cell_type": "code",
   "execution_count": 42,
   "metadata": {},
   "outputs": [],
   "source": [
    "# home_ownership\n",
    "# we want to replace (NONE and ANY) into OTHER\n",
    "# or custom replace function or mapping function\n",
    "\n",
    "df['home_ownership'].value_counts()\n",
    "\"\"\"\n",
    "MORTGAGE    198022\n",
    "RENT        159395\n",
    "OWN          37660\n",
    "OTHER          110\n",
    "NONE            29\n",
    "ANY              3\n",
    "\"\"\"\n",
    "\n",
    "# we want to replace (NONE and ANY) into OTHER\n",
    "# or custom replace function or mapping function\n",
    "df['home_ownership'] = df['home_ownership'].replace(['NONE','ANY'], 'OTHER')\n",
    "\n",
    "df['home_ownership'].value_counts()\n",
    "\n",
    "# use pandas dummy variables to add new columns to original dataframe, drop original column \n",
    "dummies = pd.get_dummies(df['home_ownership'], drop_first=True)\n",
    "\n",
    "# REMOVE the sub_grade column THEN concat to original dataframe\n",
    "df = pd.concat([df.drop('home_ownership', axis=1), dummies], axis=1)\n",
    "\n",
    "# See what columns we got\n",
    "# df.columns"
   ]
  },
  {
   "cell_type": "code",
   "execution_count": 43,
   "metadata": {},
   "outputs": [],
   "source": [
    "# Address\n",
    "# Extract the zip code\n",
    "\n",
    "df['zip_code'] = df['address'].apply(lambda address:address[-5:])\n",
    "df['zip_code'].value_counts() # luckily we only have 20 here\n",
    "\n",
    "# use pandas dummy variables to add new columns to original dataframe, drop original column \n",
    "dummies = pd.get_dummies(df['zip_code'], drop_first=True)\n",
    "\n",
    "# REMOVE the sub_grade column THEN concat to original dataframe\n",
    "df = pd.concat([df.drop('zip_code', axis=1), dummies], axis=1)\n",
    "\n",
    "df = df.drop('address', axis=1)"
   ]
  },
  {
   "cell_type": "code",
   "execution_count": 44,
   "metadata": {},
   "outputs": [],
   "source": [
    "# issue_d\n",
    "# does this feature help to show which will default?\n",
    "# course thinks this is data leakage - but maybe in reality vintage matters\n",
    "\n",
    "# date conversion (if needed)\n",
    "df['issue_d'].value_counts()\n",
    "df['issue_d'] = pd.to_datetime(df['issue_d'])\n",
    "# date is not useful by itself, so extract year\n",
    "df['issue_d'] = df['issue_d'].apply(lambda date: date.year) # df['issue_d'].apply(lambda date: date.month)\n",
    "\n",
    "# will stick to course workbook:\n",
    "df.drop(['issue_d'], axis=1, inplace=True)\n"
   ]
  },
  {
   "cell_type": "code",
   "execution_count": 45,
   "metadata": {},
   "outputs": [],
   "source": [
    "# earliest_cr_line\n",
    "# does this feature help to show which will default?\n",
    "# this is a historical time stamp feature - extract the year\n",
    "# no need to convert to dummy variable because year can be treated as a continuous data type\n",
    "\n",
    "# date conversion (if needed)\n",
    "df['earliest_cr_line'].value_counts()\n",
    "df['earliest_cr_line'] = pd.to_datetime(df['earliest_cr_line'])\n",
    "# date is not useful by itself, so extract year\n",
    "# df['earliest_cr_line'] = df['earliest_cr_line'].apply(lambda date: int(date[-4:])) # last 4 letters approach\n",
    "df['earliest_cr_line'] = df['earliest_cr_line'].apply(lambda date: date.year) # df['issue_d'].apply(lambda date: date.month)\n",
    "\n",
    "# df['earliest_cr_line'].value_counts()\n",
    "# len(df['earliest_cr_line']) # 396030"
   ]
  },
  {
   "cell_type": "code",
   "execution_count": null,
   "metadata": {},
   "outputs": [],
   "source": []
  },
  {
   "cell_type": "markdown",
   "metadata": {},
   "source": [
    "# DATA Cleaned - Now DATA PREPROCESSING (TRAIN/TEST/SPLIT)"
   ]
  },
  {
   "cell_type": "code",
   "execution_count": 46,
   "metadata": {},
   "outputs": [
    {
     "data": {
      "text/plain": [
       "Index(['loan_amnt', 'term', 'int_rate', 'installment', 'annual_inc',\n",
       "       'loan_status', 'dti', 'earliest_cr_line', 'open_acc', 'pub_rec',\n",
       "       'revol_bal', 'revol_util', 'total_acc', 'mort_acc',\n",
       "       'pub_rec_bankruptcies', 'loan_repaid', 'A2', 'A3', 'A4', 'A5', 'B1',\n",
       "       'B2', 'B3', 'B4', 'B5', 'C1', 'C2', 'C3', 'C4', 'C5', 'D1', 'D2', 'D3',\n",
       "       'D4', 'D5', 'E1', 'E2', 'E3', 'E4', 'E5', 'F1', 'F2', 'F3', 'F4', 'F5',\n",
       "       'G1', 'G2', 'G3', 'G4', 'G5', 'verification_status_Source Verified',\n",
       "       'verification_status_Verified', 'application_type_INDIVIDUAL',\n",
       "       'application_type_JOINT', 'initial_list_status_w',\n",
       "       'purpose_credit_card', 'purpose_debt_consolidation',\n",
       "       'purpose_educational', 'purpose_home_improvement', 'purpose_house',\n",
       "       'purpose_major_purchase', 'purpose_medical', 'purpose_moving',\n",
       "       'purpose_other', 'purpose_renewable_energy', 'purpose_small_business',\n",
       "       'purpose_vacation', 'purpose_wedding', 'OTHER', 'OWN', 'RENT', '05113',\n",
       "       '11650', '22690', '29597', '30723', '48052', '70466', '86630', '93700'],\n",
       "      dtype='object')"
      ]
     },
     "execution_count": 46,
     "metadata": {},
     "output_type": "execute_result"
    }
   ],
   "source": [
    "df.columns"
   ]
  },
  {
   "cell_type": "code",
   "execution_count": 47,
   "metadata": {},
   "outputs": [
    {
     "data": {
      "text/plain": [
       "Index(['loan_status'], dtype='object')"
      ]
     },
     "execution_count": 47,
     "metadata": {},
     "output_type": "execute_result"
    }
   ],
   "source": [
    "df.select_dtypes(['object']).columns"
   ]
  },
  {
   "cell_type": "code",
   "execution_count": 48,
   "metadata": {},
   "outputs": [],
   "source": [
    "# Remove old text output since we already have loan_repaid as 0/1\n",
    "df = df.drop('loan_status', axis=1)"
   ]
  },
  {
   "cell_type": "code",
   "execution_count": 49,
   "metadata": {},
   "outputs": [],
   "source": [
    "# Train Test Split\n",
    "# df = df.sample(frac=0.1,random_state=101) # if many entries, can sample 10% of the rows for speed/memory issues\n",
    "X = df.drop('loan_repaid', axis=1).values\n",
    "y = df['loan_repaid'].values\n",
    "\n",
    "# create two numpy arrays from pd dataframes\n",
    "from sklearn.model_selection import train_test_split\n",
    "# train_test_split()\n",
    "X_train, X_test, y_train, y_test = train_test_split(X, y, test_size=0.2, random_state=101) # 20% will be test set\n",
    "\n",
    "# normalize the data and fit the scaler\n",
    "from sklearn.preprocessing import MinMaxScaler\n",
    "\n",
    "# create instance of scaler\n",
    "scaler = MinMaxScaler()\n",
    "# only fit to the training set (to avoid data leakage)\n",
    "scaler.fit(X_train)\n",
    "# overwrite the X_train and X_test with the scaled values\n",
    "X_train = scaler.transform(X_train)\n",
    "X_test = scaler.transform(X_test)"
   ]
  },
  {
   "cell_type": "code",
   "execution_count": 50,
   "metadata": {},
   "outputs": [
    {
     "name": "stdout",
     "output_type": "stream",
     "text": [
      "X_train shape:  (316175, 78)\n"
     ]
    }
   ],
   "source": [
    "# Tensorflow Model for Classification\n",
    "# THIRD MODEL (callback with dropout) - see other models (Model 1=no callback, Model 2 = with callback no dropout)\n",
    "# runs a little bit more than the Model 2 because of the randomly stopped updating neurons\n",
    "import tensorflow as tf\n",
    "from tensorflow.keras.models import Sequential\n",
    "from tensorflow.keras.layers import Dense,Dropout\n",
    "\n",
    "# Can use this to check: # X_train.shape[1] is number of features, in this case = 30\n",
    "print('X_train shape: ', X_train.shape) # (316175 rows, 78 columns representing the features) "
   ]
  },
  {
   "cell_type": "code",
   "execution_count": 51,
   "metadata": {},
   "outputs": [],
   "source": [
    "first_layer_neurons = X_train.shape[1]\n",
    "\n",
    "# Build Neural Network\n",
    "model = Sequential()\n",
    "\n",
    "# Layer 1 - recommended to use number of features\n",
    "# model.add(Dense(78, activation='relu', input_shape=(78,)))\n",
    "model.add(Dense(first_layer_neurons, activation='relu', input_shape=(first_layer_neurons,))) # relu = rectified linear unit y = max(0, x)\n",
    "model.add(Dropout(0.2)) \n",
    "# % Neurons Randomly Dropped Each time = means 0.2*100=20 neurons will not have weights or biases updated. \n",
    "# Ex) Dropout = 1 drops 100% of neurons, if dropout = 0 then drops 0% of neurons\n",
    "\n",
    "# Layer 2 - reduce half\n",
    "model.add(Dense(39, activation='relu'))\n",
    "model.add(Dropout(0.2)) \n",
    "\n",
    "# Layer 3 - reduce half\n",
    "model.add(Dense(19, activation='relu'))\n",
    "model.add(Dropout(0.2)) \n",
    "\n",
    "# Final Layer - Binary classification model so output must be binary: use sigmoid\n",
    "model.add(Dense(units=1, activation='sigmoid')) # output is 0 or 1\n",
    "\n",
    "# Binary classification model\n",
    "model.compile(loss='binary_crossentropy', optimizer='adam')"
   ]
  },
  {
   "cell_type": "code",
   "execution_count": 52,
   "metadata": {},
   "outputs": [
    {
     "name": "stdout",
     "output_type": "stream",
     "text": [
      "Model: \"sequential\"\n",
      "_________________________________________________________________\n",
      "Layer (type)                 Output Shape              Param #   \n",
      "=================================================================\n",
      "dense (Dense)                (None, 78)                6162      \n",
      "_________________________________________________________________\n",
      "dropout (Dropout)            (None, 78)                0         \n",
      "_________________________________________________________________\n",
      "dense_1 (Dense)              (None, 39)                3081      \n",
      "_________________________________________________________________\n",
      "dropout_1 (Dropout)          (None, 39)                0         \n",
      "_________________________________________________________________\n",
      "dense_2 (Dense)              (None, 19)                760       \n",
      "_________________________________________________________________\n",
      "dropout_2 (Dropout)          (None, 19)                0         \n",
      "_________________________________________________________________\n",
      "dense_3 (Dense)              (None, 1)                 20        \n",
      "=================================================================\n",
      "Total params: 10,023\n",
      "Trainable params: 10,023\n",
      "Non-trainable params: 0\n",
      "_________________________________________________________________\n"
     ]
    },
    {
     "data": {
      "image/png": "[encoded data removed]",
      "text/plain": [
       "<IPython.core.display.Image object>"
      ]
     },
     "execution_count": 52,
     "metadata": {},
     "output_type": "execute_result"
    }
   ],
   "source": [
    "# see the model: print the string summary of the network \n",
    "model.summary()\n",
    "\n",
    "# another way to visualize the model\n",
    "# from keras.utils.vis_utils import plot_model\n",
    "from tensorflow.keras.utils import plot_model\n",
    "plot_model(model, to_file='model_plot.png', show_shapes=True, show_layer_names=True, expand_nested=True)\n",
    "\n",
    "# this graphic requires the first layer to have input_shape: model.add(Dense(19, activation='relu', input_shape=(19,)))"
   ]
  },
  {
   "cell_type": "code",
   "execution_count": null,
   "metadata": {},
   "outputs": [],
   "source": []
  },
  {
   "cell_type": "code",
   "execution_count": 53,
   "metadata": {},
   "outputs": [
    {
     "name": "stdout",
     "output_type": "stream",
     "text": [
      "Train on 316175 samples, validate on 79044 samples\n",
      "Epoch 1/50\n",
      "316175/316175 [==============================] - 18s 56us/sample - loss: 0.2984 - val_loss: 0.2644\n",
      "Epoch 2/50\n",
      "316175/316175 [==============================] - 16s 50us/sample - loss: 0.2655 - val_loss: 0.2627\n",
      "Epoch 3/50\n",
      "316175/316175 [==============================] - 16s 51us/sample - loss: 0.2626 - val_loss: 0.2624\n",
      "Epoch 4/50\n",
      "316175/316175 [==============================] - 16s 51us/sample - loss: 0.2620 - val_loss: 0.2619\n",
      "Epoch 5/50\n",
      "316175/316175 [==============================] - 15s 49us/sample - loss: 0.2610 - val_loss: 0.2616\n",
      "Epoch 6/50\n",
      "316175/316175 [==============================] - 16s 52us/sample - loss: 0.2602 - val_loss: 0.2615\n",
      "Epoch 7/50\n",
      "316175/316175 [==============================] - 14s 43us/sample - loss: 0.2600 - val_loss: 0.2613\n",
      "Epoch 8/50\n",
      "316175/316175 [==============================] - 13s 41us/sample - loss: 0.2593 - val_loss: 0.2617\n",
      "Epoch 9/50\n",
      "316175/316175 [==============================] - 16s 51us/sample - loss: 0.2591 - val_loss: 0.2617\n",
      "Epoch 10/50\n",
      "316175/316175 [==============================] - 13s 41us/sample - loss: 0.2587 - val_loss: 0.2609\n",
      "Epoch 11/50\n",
      "316175/316175 [==============================] - 12s 39us/sample - loss: 0.2589 - val_loss: 0.2616\n",
      "Epoch 12/50\n",
      "316175/316175 [==============================] - 16s 49us/sample - loss: 0.2583 - val_loss: 0.2611\n",
      "Epoch 13/50\n",
      "316175/316175 [==============================] - 13s 40us/sample - loss: 0.2581 - val_loss: 0.2611\n",
      "Epoch 14/50\n",
      "316175/316175 [==============================] - 12s 38us/sample - loss: 0.2579 - val_loss: 0.2624\n",
      "Epoch 15/50\n",
      "316175/316175 [==============================] - 14s 43us/sample - loss: 0.2578 - val_loss: 0.2611\n",
      "Epoch 16/50\n",
      "316175/316175 [==============================] - 15s 48us/sample - loss: 0.2576 - val_loss: 0.2617\n",
      "Epoch 17/50\n",
      "316175/316175 [==============================] - 12s 39us/sample - loss: 0.2573 - val_loss: 0.2616\n",
      "Epoch 18/50\n",
      "316175/316175 [==============================] - 15s 46us/sample - loss: 0.2573 - val_loss: 0.2615\n",
      "Epoch 19/50\n",
      "316175/316175 [==============================] - 16s 52us/sample - loss: 0.2570 - val_loss: 0.2616\n",
      "Epoch 20/50\n",
      "316175/316175 [==============================] - 15s 47us/sample - loss: 0.2570 - val_loss: 0.2612\n",
      "Epoch 21/50\n",
      "316175/316175 [==============================] - 12s 39us/sample - loss: 0.2567 - val_loss: 0.2617\n",
      "Epoch 22/50\n",
      "316175/316175 [==============================] - 12s 38us/sample - loss: 0.2563 - val_loss: 0.2616\n",
      "Epoch 23/50\n",
      "316175/316175 [==============================] - 12s 39us/sample - loss: 0.2563 - val_loss: 0.2612\n",
      "Epoch 24/50\n",
      "316175/316175 [==============================] - 15s 47us/sample - loss: 0.2564 - val_loss: 0.2611\n",
      "Epoch 25/50\n",
      "316175/316175 [==============================] - 12s 39us/sample - loss: 0.2561 - val_loss: 0.2612\n",
      "Epoch 26/50\n",
      "316175/316175 [==============================] - 13s 40us/sample - loss: 0.2559 - val_loss: 0.2617\n",
      "Epoch 27/50\n",
      "316175/316175 [==============================] - 12s 38us/sample - loss: 0.2558 - val_loss: 0.2616\n",
      "Epoch 28/50\n",
      "316175/316175 [==============================] - 18s 57us/sample - loss: 0.2557 - val_loss: 0.2624\n",
      "Epoch 29/50\n",
      "316175/316175 [==============================] - 16s 51us/sample - loss: 0.2556 - val_loss: 0.2610\n",
      "Epoch 30/50\n",
      "316175/316175 [==============================] - 13s 42us/sample - loss: 0.2556 - val_loss: 0.2615\n",
      "Epoch 31/50\n",
      "316175/316175 [==============================] - 13s 41us/sample - loss: 0.2552 - val_loss: 0.2611\n",
      "Epoch 32/50\n",
      "316175/316175 [==============================] - 13s 42us/sample - loss: 0.2553 - val_loss: 0.2615\n",
      "Epoch 33/50\n",
      "316175/316175 [==============================] - 13s 41us/sample - loss: 0.2552 - val_loss: 0.2611\n",
      "Epoch 34/50\n",
      "316175/316175 [==============================] - 13s 40us/sample - loss: 0.2550 - val_loss: 0.2608\n",
      "Epoch 35/50\n",
      "316175/316175 [==============================] - 12s 39us/sample - loss: 0.2547 - val_loss: 0.2615\n",
      "Epoch 36/50\n",
      "316175/316175 [==============================] - 14s 43us/sample - loss: 0.2548 - val_loss: 0.2616\n",
      "Epoch 37/50\n",
      "316175/316175 [==============================] - 13s 40us/sample - loss: 0.2546 - val_loss: 0.2610\n",
      "Epoch 38/50\n",
      "316175/316175 [==============================] - 12s 38us/sample - loss: 0.2545 - val_loss: 0.2612\n",
      "Epoch 39/50\n",
      "316175/316175 [==============================] - 12s 39us/sample - loss: 0.2545 - val_loss: 0.2622\n",
      "Epoch 40/50\n",
      "316175/316175 [==============================] - 16s 52us/sample - loss: 0.2542 - val_loss: 0.2615\n",
      "Epoch 41/50\n",
      "316175/316175 [==============================] - 16s 50us/sample - loss: 0.2543 - val_loss: 0.2615\n",
      "Epoch 42/50\n",
      "316175/316175 [==============================] - 17s 55us/sample - loss: 0.2540 - val_loss: 0.2616\n",
      "Epoch 43/50\n",
      "316175/316175 [==============================] - 18s 56us/sample - loss: 0.2540 - val_loss: 0.2612\n",
      "Epoch 44/50\n",
      "316175/316175 [==============================] - 22s 71us/sample - loss: 0.2540 - val_loss: 0.2618 lo -  - ETA: 0s - loss: 0\n",
      "Epoch 45/50\n",
      "316175/316175 [==============================] - 22s 71us/sample - loss: 0.2537 - val_loss: 0.2616\n",
      "Epoch 46/50\n",
      "316175/316175 [==============================] - 18s 58us/sample - loss: 0.2538 - val_loss: 0.2609\n",
      "Epoch 47/50\n",
      "316175/316175 [==============================] - 15s 46us/sample - loss: 0.2537 - val_loss: 0.2612\n",
      "Epoch 48/50\n",
      "316175/316175 [==============================] - 13s 42us/sample - loss: 0.2536 - val_loss: 0.2613\n",
      "Epoch 49/50\n",
      "316175/316175 [==============================] - 13s 41us/sample - loss: 0.2537 - val_loss: 0.2612\n",
      "Epoch 50/50\n",
      "316175/316175 [==============================] - 13s 40us/sample - loss: 0.2535 - val_loss: 0.2615\n"
     ]
    },
    {
     "data": {
      "text/plain": [
       "<tensorflow.python.keras.callbacks.History at 0x20c8b69e888>"
      ]
     },
     "execution_count": 53,
     "metadata": {},
     "output_type": "execute_result"
    }
   ],
   "source": [
    "from tensorflow.keras.callbacks import EarlyStopping\n",
    "# min = stop when quantity monitored has stopped decreasing (minimize validation loss)\n",
    "# max = stop when quantity monitored has stopped increasing (maximize accuracy)\n",
    "# patience = how many epochs to wait before stopping despite hitting\n",
    "early_stop = EarlyStopping(monitor='val_loss', mode='min', verbose=1, patience=25)\n",
    "\n",
    "# Now we fit the model to 600 epochs to demonstrate the overfitting\n",
    "# Also included the validation data\n",
    "# model.fit(x=X_train, y=y_train, epochs=600,validation_data=(X_test,y_test), callbacks=[early_stop])\n",
    "\n",
    "# course used epochs=30\n",
    "model.fit(x=X_train, y=y_train, epochs=50,batch_size=256,\n",
    "          validation_data=(X_test,y_test),\n",
    "          callbacks=[early_stop]\n",
    "         )\n",
    "\n"
   ]
  },
  {
   "cell_type": "markdown",
   "metadata": {},
   "source": [
    "# EVALUATE MODEL PERFORMANCE AND SAVE/LOAD MODEL"
   ]
  },
  {
   "cell_type": "code",
   "execution_count": 54,
   "metadata": {},
   "outputs": [
    {
     "data": {
      "text/plain": [
       "Text(0.5, 1.0, 'Model Loss - Validation vs Training - with Early Stop')"
      ]
     },
     "execution_count": 54,
     "metadata": {},
     "output_type": "execute_result"
    },
    {
     "data": {
      "image/png": "[encoded data removed]",
      "text/plain": [
       "<Figure size 432x288 with 1 Axes>"
      ]
     },
     "metadata": {},
     "output_type": "display_data"
    }
   ],
   "source": [
    "# Evaluate Model Performance - Plot Validation Loss vs Training Loss\n",
    "# look for flattening of errors - glad to see the early stop did its job\n",
    "model_loss = pd.DataFrame(model.history.history)\n",
    "model_loss.plot()\n",
    "plt.title('Model Loss - Validation vs Training - with Early Stop')\n"
   ]
  },
  {
   "cell_type": "code",
   "execution_count": 55,
   "metadata": {},
   "outputs": [
    {
     "name": "stdout",
     "output_type": "stream",
     "text": [
      "              precision    recall  f1-score   support\n",
      "\n",
      "           0       0.98      0.44      0.61     15658\n",
      "           1       0.88      1.00      0.93     63386\n",
      "\n",
      "    accuracy                           0.89     79044\n",
      "   macro avg       0.93      0.72      0.77     79044\n",
      "weighted avg       0.90      0.89      0.87     79044\n",
      "\n",
      "[[ 6929  8729]\n",
      " [  166 63220]]\n"
     ]
    }
   ],
   "source": [
    "# performance for classification problems\n",
    "from sklearn.metrics import classification_report, confusion_matrix\n",
    "\n",
    "# create predictions based on model \n",
    "# predictions = model.predict(X_test)\n",
    "predictions = model.predict_classes(X_test)\n",
    "\n",
    "# compare predictions to actuals\n",
    "print(classification_report(y_test, predictions))\n",
    "print(confusion_matrix(y_test,predictions))\n",
    "\n",
    "# https://en.wikipedia.org/wiki/Precision_and_recall\n",
    "# Precision = Accuracy of Positive Values = TP / (TP + FP)\n",
    "# Recall = Accuracy overall = TP / all\n",
    "\n",
    "# Accuracy is how much you got right\n",
    "# Do not forget that most of the data was re-paid (imbalanced data set to begin with)"
   ]
  },
  {
   "cell_type": "code",
   "execution_count": 56,
   "metadata": {},
   "outputs": [
    {
     "data": {
      "text/plain": [
       "0.8038479931379817"
      ]
     },
     "execution_count": 56,
     "metadata": {},
     "output_type": "execute_result"
    }
   ],
   "source": [
    "# Imbalanced Dataset assessment \n",
    "# Re Assess y_test or the true data\n",
    "df['loan_repaid'].value_counts() # 317696 Repaid and 77523 not repaid\n",
    "317696 / len(df)   # notice that 80% of my points were already repaid itself based on test data set, so 80% should be baseline\n",
    "\n",
    "# hence 90% accuracy is not necessarily good because baseline is 80%. We need more context.\n",
    "# so TRUE NOTIFICATION use F1 score of 0.6 as your metric to improve\n",
    "# ways to improve:\n",
    "    # 1) add layers\n",
    "    # 2) add more neurons\n",
    "    # 3) try other algorithms\n",
    "    # 4) add more epochs"
   ]
  },
  {
   "cell_type": "code",
   "execution_count": 57,
   "metadata": {},
   "outputs": [
    {
     "data": {
      "text/plain": [
       "array([[0.61538462, 1.        , 0.50331126, 0.40836493, 0.00708257,\n",
       "        0.0030113 , 0.75362319, 0.2       , 0.        , 0.01593446,\n",
       "        0.07340581, 0.29530201, 0.        , 0.        , 0.        ,\n",
       "        0.        , 0.        , 0.        , 0.        , 0.        ,\n",
       "        0.        , 0.        , 0.        , 0.        , 0.        ,\n",
       "        0.        , 0.        , 0.        , 0.        , 0.        ,\n",
       "        0.        , 0.        , 1.        , 0.        , 0.        ,\n",
       "        0.        , 0.        , 0.        , 0.        , 0.        ,\n",
       "        0.        , 0.        , 0.        , 0.        , 0.        ,\n",
       "        0.        , 0.        , 0.        , 0.        , 1.        ,\n",
       "        1.        , 0.        , 0.        , 0.        , 1.        ,\n",
       "        0.        , 0.        , 0.        , 0.        , 0.        ,\n",
       "        0.        , 0.        , 0.        , 0.        , 0.        ,\n",
       "        0.        , 0.        , 0.        , 1.        , 0.        ,\n",
       "        0.        , 0.        , 0.        , 1.        , 0.        ,\n",
       "        0.        , 0.        , 0.        ]])"
      ]
     },
     "execution_count": 57,
     "metadata": {},
     "output_type": "execute_result"
    }
   ],
   "source": [
    "# use model to make a prediction on a single person\n",
    "\n",
    "# select random existing person\n",
    "import random\n",
    "random.seed(101)\n",
    "random_int = random.randint(0,len(df))\n",
    "new_customer = df.drop('loan_repaid',axis=1).iloc[random_int]\n",
    "\n",
    "# this is a pandas series\n",
    "new_customer\n",
    "\n",
    "# model requires it in a numpy array:\n",
    "new_customer.values.reshape(1,78)\n",
    "\n",
    "# recall, the model requires scaled input data\n",
    "new_customer = scaler.transform(new_customer.values.reshape(1,78))\n",
    "new_customer"
   ]
  },
  {
   "cell_type": "code",
   "execution_count": 58,
   "metadata": {},
   "outputs": [
    {
     "data": {
      "text/plain": [
       "array([[1]])"
      ]
     },
     "execution_count": 58,
     "metadata": {},
     "output_type": "execute_result"
    }
   ],
   "source": [
    "# prediction using model # predictions = model.predict_classes(X_test)\n",
    "predictions = model.predict_classes(new_customer)\n",
    "predictions"
   ]
  },
  {
   "cell_type": "code",
   "execution_count": 59,
   "metadata": {},
   "outputs": [
    {
     "data": {
      "text/plain": [
       "1.0"
      ]
     },
     "execution_count": 59,
     "metadata": {},
     "output_type": "execute_result"
    }
   ],
   "source": [
    "# so did we get it right?\n",
    "# pull the new_customer without the drop: new_customer = df.drop('loan_repaid',axis=1).iloc[random_int]\n",
    "new_customer_orig = df.iloc[random_int]\n",
    "new_customer_orig['loan_repaid']"
   ]
  },
  {
   "cell_type": "code",
   "execution_count": 60,
   "metadata": {},
   "outputs": [],
   "source": [
    "# how to save the model down after all this work\n",
    "from tensorflow.keras.models import load_model\n",
    "model.save('my_TF_lending_club_model1.h5')"
   ]
  },
  {
   "cell_type": "code",
   "execution_count": 62,
   "metadata": {},
   "outputs": [
    {
     "data": {
      "text/plain": [
       "array([[0.581259]], dtype=float32)"
      ]
     },
     "execution_count": 62,
     "metadata": {},
     "output_type": "execute_result"
    }
   ],
   "source": [
    "# how to load the model\n",
    "later_model = load_model('my_TF_lending_club_model1.h5')\n",
    "later_model.predict(new_customer)"
   ]
  },
  {
   "cell_type": "code",
   "execution_count": null,
   "metadata": {},
   "outputs": [],
   "source": []
  },
  {
   "cell_type": "markdown",
   "metadata": {},
   "source": [
    "# TENSORBOARD"
   ]
  },
  {
   "cell_type": "code",
   "execution_count": 72,
   "metadata": {},
   "outputs": [
    {
     "data": {
      "text/plain": [
       "'2020-04-27--1607-04'"
      ]
     },
     "execution_count": 72,
     "metadata": {},
     "output_type": "execute_result"
    }
   ],
   "source": [
    "# Tensorboard\n",
    "# https://www.tensorflow.org/tensorboard/get_started\n",
    "from tensorflow.keras.callbacks import EarlyStopping,TensorBoard\n",
    "\n",
    "# Unique log for each time you run the model\n",
    "from datetime import datetime\n",
    "timestamp = datetime.now().strftime(\"%Y-%m-%d--%H%M-%S\")\n",
    "timestamp"
   ]
  },
  {
   "cell_type": "code",
   "execution_count": 69,
   "metadata": {},
   "outputs": [
    {
     "data": {
      "text/plain": [
       "'C:\\\\A\\\\Projects\\\\Python\\\\Python - matplotlib_VC'"
      ]
     },
     "execution_count": 69,
     "metadata": {},
     "output_type": "execute_result"
    }
   ],
   "source": [
    "# double backslash? yes\n",
    "pwd"
   ]
  },
  {
   "cell_type": "code",
   "execution_count": 73,
   "metadata": {},
   "outputs": [
    {
     "name": "stdout",
     "output_type": "stream",
     "text": [
      "Current Directory:  C:\\A\\Projects\\Python\\Python - matplotlib_VC\n"
     ]
    },
    {
     "data": {
      "text/plain": [
       "'logs\\\\fit\\\\2020-04-27--1607-04'"
      ]
     },
     "execution_count": 73,
     "metadata": {},
     "output_type": "execute_result"
    }
   ],
   "source": [
    "# Log folder\n",
    "# Windows: use \"logs\\\\fit\"\n",
    "# MacOS/Linux: use \"logs\\fit\"\n",
    "import os\n",
    "print('Current Directory: ', os.getcwd())\n",
    "log_directory = 'logs\\\\fit'\n",
    "log_directory = log_directory + '\\\\' + timestamp\n",
    "log_directory"
   ]
  },
  {
   "cell_type": "code",
   "execution_count": 74,
   "metadata": {},
   "outputs": [],
   "source": [
    "board = TensorBoard(log_dir=log_directory, # where stuff saved\n",
    "                   histogram_freq=1,       # after freq=1, so each epoch, get weights, weights and histogram\n",
    "                   write_graph=True,\n",
    "                   write_images=True,\n",
    "                   update_freq='epoch',\n",
    "                   profile_batch=2,\n",
    "                   embeddings_freq=1)\n",
    "\n",
    "\n",
    "\n",
    "first_layer_neurons = X_train.shape[1]\n",
    "# Build Neural Network\n",
    "model2 = Sequential()\n",
    "# Layer 1 - recommended to use number of features\n",
    "# model.add(Dense(78, activation='relu', input_shape=(78,)))\n",
    "model2.add(Dense(first_layer_neurons, activation='relu', input_shape=(first_layer_neurons,))) # relu = rectified linear unit y = max(0, x)\n",
    "model2.add(Dropout(0.2)) \n",
    "# % Neurons Randomly Dropped Each time = means 0.2*100=20 neurons will not have weights or biases updated. \n",
    "# Ex) Dropout = 1 drops 100% of neurons, if dropout = 0 then drops 0% of neurons\n",
    "# Layer 2 - reduce half\n",
    "model2.add(Dense(39, activation='relu'))\n",
    "model2.add(Dropout(0.2)) \n",
    "# Layer 3 - reduce half\n",
    "model2.add(Dense(19, activation='relu'))\n",
    "model2.add(Dropout(0.2)) \n",
    "# Final Layer - Binary classification model so output must be binary: use sigmoid\n",
    "model2.add(Dense(units=1, activation='sigmoid')) # output is 0 or 1\n",
    "# Binary classification model\n",
    "model2.compile(loss='binary_crossentropy', optimizer='adam')\n"
   ]
  },
  {
   "cell_type": "code",
   "execution_count": 75,
   "metadata": {},
   "outputs": [
    {
     "name": "stdout",
     "output_type": "stream",
     "text": [
      "Train on 316175 samples, validate on 79044 samples\n",
      "Epoch 1/50\n",
      "316175/316175 [==============================] - 11s 35us/sample - loss: 0.2967 - val_loss: 0.2650\n",
      "Epoch 2/50\n",
      "316175/316175 [==============================] - 10s 32us/sample - loss: 0.2653 - val_loss: 0.2633\n",
      "Epoch 3/50\n",
      "316175/316175 [==============================] - 11s 36us/sample - loss: 0.2630 - val_loss: 0.2628\n",
      "Epoch 4/50\n",
      "316175/316175 [==============================] - 15s 48us/sample - loss: 0.2618 - val_loss: 0.2620\n",
      "Epoch 5/50\n",
      "316175/316175 [==============================] - 17s 55us/sample - loss: 0.2608 - val_loss: 0.2621\n",
      "Epoch 6/50\n",
      "316175/316175 [==============================] - 22s 70us/sample - loss: 0.2604 - val_loss: 0.2619\n",
      "Epoch 7/50\n",
      "316175/316175 [==============================] - 16s 52us/sample - loss: 0.2598 - val_loss: 0.2621\n",
      "Epoch 8/50\n",
      "316175/316175 [==============================] - 14s 45us/sample - loss: 0.2596 - val_loss: 0.2620\n",
      "Epoch 9/50\n",
      "316175/316175 [==============================] - 18s 56us/sample - loss: 0.2594 - val_loss: 0.2615\n",
      "Epoch 10/50\n",
      "316175/316175 [==============================] - 19s 61us/sample - loss: 0.2590 - val_loss: 0.2614\n",
      "Epoch 11/50\n",
      "316175/316175 [==============================] - 19s 61us/sample - loss: 0.2588 - val_loss: 0.2612\n",
      "Epoch 12/50\n",
      "316175/316175 [==============================] - 20s 62us/sample - loss: 0.2584 - val_loss: 0.2614\n",
      "Epoch 13/50\n",
      "316175/316175 [==============================] - 20s 64us/sample - loss: 0.2583 - val_loss: 0.2614\n",
      "Epoch 14/50\n",
      "316175/316175 [==============================] - 19s 61us/sample - loss: 0.2583 - val_loss: 0.2617\n",
      "Epoch 15/50\n",
      "316175/316175 [==============================] - 19s 59us/sample - loss: 0.2579 - val_loss: 0.2613\n",
      "Epoch 16/50\n",
      "316175/316175 [==============================] - 18s 57us/sample - loss: 0.2576 - val_loss: 0.2609\n",
      "Epoch 17/50\n",
      "316175/316175 [==============================] - 18s 56us/sample - loss: 0.2577 - val_loss: 0.2612\n",
      "Epoch 18/50\n",
      "316175/316175 [==============================] - 18s 57us/sample - loss: 0.2575 - val_loss: 0.2613\n",
      "Epoch 19/50\n",
      "316175/316175 [==============================] - 18s 57us/sample - loss: 0.2572 - val_loss: 0.2612\n",
      "Epoch 20/50\n",
      "316175/316175 [==============================] - 18s 57us/sample - loss: 0.2571 - val_loss: 0.2613\n",
      "Epoch 21/50\n",
      "316175/316175 [==============================] - 19s 60us/sample - loss: 0.2571 - val_loss: 0.2611\n",
      "Epoch 22/50\n",
      "316175/316175 [==============================] - 19s 59us/sample - loss: 0.2567 - val_loss: 0.2611\n",
      "Epoch 23/50\n",
      "316175/316175 [==============================] - 18s 56us/sample - loss: 0.2567 - val_loss: 0.2616\n",
      "Epoch 24/50\n",
      "316175/316175 [==============================] - 20s 62us/sample - loss: 0.2564 - val_loss: 0.2613\n",
      "Epoch 25/50\n",
      "316175/316175 [==============================] - 19s 61us/sample - loss: 0.2562 - val_loss: 0.2610\n",
      "Epoch 26/50\n",
      "316175/316175 [==============================] - 19s 61us/sample - loss: 0.2562 - val_loss: 0.2616\n",
      "Epoch 27/50\n",
      "316175/316175 [==============================] - 19s 61us/sample - loss: 0.2562 - val_loss: 0.2616\n",
      "Epoch 28/50\n",
      "316175/316175 [==============================] - 17s 53us/sample - loss: 0.2558 - val_loss: 0.2616\n",
      "Epoch 29/50\n",
      "316175/316175 [==============================] - 14s 43us/sample - loss: 0.2560 - val_loss: 0.2612\n",
      "Epoch 30/50\n",
      "316175/316175 [==============================] - 14s 43us/sample - loss: 0.2558 - val_loss: 0.2617\n",
      "Epoch 31/50\n",
      "316175/316175 [==============================] - 14s 43us/sample - loss: 0.2558 - val_loss: 0.2613\n",
      "Epoch 32/50\n",
      "316175/316175 [==============================] - 13s 42us/sample - loss: 0.2554 - val_loss: 0.2627\n",
      "Epoch 33/50\n",
      "316175/316175 [==============================] - 13s 41us/sample - loss: 0.2551 - val_loss: 0.2612\n",
      "Epoch 34/50\n",
      "316175/316175 [==============================] - 13s 42us/sample - loss: 0.2554 - val_loss: 0.2615\n",
      "Epoch 35/50\n",
      "316175/316175 [==============================] - 14s 44us/sample - loss: 0.2550 - val_loss: 0.2616\n",
      "Epoch 36/50\n",
      "316175/316175 [==============================] - 14s 45us/sample - loss: 0.2549 - val_loss: 0.2614\n",
      "Epoch 37/50\n",
      "316175/316175 [==============================] - 14s 45us/sample - loss: 0.2548 - val_loss: 0.2619\n",
      "Epoch 38/50\n",
      "316175/316175 [==============================] - 14s 45us/sample - loss: 0.2547 - val_loss: 0.2611\n",
      "Epoch 39/50\n",
      "316175/316175 [==============================] - 16s 50us/sample - loss: 0.2548 - val_loss: 0.2620\n",
      "Epoch 40/50\n",
      "316175/316175 [==============================] - 14s 45us/sample - loss: 0.2544 - val_loss: 0.2615\n",
      "Epoch 41/50\n",
      "316175/316175 [==============================] - 13s 42us/sample - loss: 0.2545 - val_loss: 0.2613\n",
      "Epoch 00041: early stopping\n"
     ]
    },
    {
     "data": {
      "text/plain": [
       "<tensorflow.python.keras.callbacks.History at 0x20ca639c8c8>"
      ]
     },
     "execution_count": 75,
     "metadata": {},
     "output_type": "execute_result"
    }
   ],
   "source": [
    "# add \"board\" to callbacks=[early_stop, board]\n",
    "\n",
    "early_stop = EarlyStopping(monitor='val_loss', mode='min', verbose=1, patience=25)\n",
    "\n",
    "# course used epochs=30\n",
    "model2.fit(x=X_train, y=y_train, epochs=50,batch_size=256,\n",
    "          validation_data=(X_test,y_test),\n",
    "          callbacks=[early_stop, board]\n",
    "         )"
   ]
  },
  {
   "cell_type": "code",
   "execution_count": 78,
   "metadata": {},
   "outputs": [
    {
     "name": "stdout",
     "output_type": "stream",
     "text": [
      "logs\\fit\\2020-04-27--1607-04\n"
     ]
    }
   ],
   "source": [
    "# run tensorboard visualization\n",
    "# open http://localhost:6006/\n",
    "\n",
    "# Two important pieces: 1) where did you save the log files and 2) where are you located\n",
    "print(log_directory)"
   ]
  },
  {
   "cell_type": "code",
   "execution_count": null,
   "metadata": {},
   "outputs": [],
   "source": [
    "# then run command line in anaconda prompt\n",
    "\n",
    "# conda activate [env]\n",
    "# cd to the folder\n",
    "# then: \"tensorboard --logdir logs\\fit\"\n",
    "# C:\\A\\Projects\\Python\\Python - matplotlib_VC>         tensorboard --logdir\\logs\\fit\\2020-04-27--1607-04\n",
    "\n",
    "# now go back to http://localhost:6006/"
   ]
  }
 ],
 "metadata": {
  "kernelspec": {
   "display_name": "Python 3",
   "language": "python",
   "name": "python3"
  },
  "language_info": {
   "codemirror_mode": {
    "name": "ipython",
    "version": 3
   },
   "file_extension": ".py",
   "mimetype": "text/x-python",
   "name": "python",
   "nbconvert_exporter": "python",
   "pygments_lexer": "ipython3",
   "version": "3.7.4"
  }
 },
 "nbformat": 4,
 "nbformat_minor": 2
}
