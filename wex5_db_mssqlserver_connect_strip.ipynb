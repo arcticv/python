{
 "cells": [
  {
   "cell_type": "code",
   "execution_count": 1,
   "metadata": {},
   "outputs": [
    {
     "name": "stdout",
     "output_type": "stream",
     "text": [
      "hi\n"
     ]
    }
   ],
   "source": [
    "print('hi')\n",
    "\n",
    "# https://www.microsoft.com/en-us/sql-server/developer-get-started/python/windows/step/3.html   OPTIMIZE USING COLUMNSTORE?\n",
    "# https://github.com/mkleehammer/pyodbc/wiki/Connecting-to-SQL-Server-from-Windows\n"
   ]
  },
  {
   "cell_type": "code",
   "execution_count": 2,
   "metadata": {},
   "outputs": [],
   "source": [
    "import pyodbc\n",
    "server = 'lenovo\\sqlexpress' # not localhost\n",
    "database = 'SampleDB'\n",
    "username = ''\n",
    "password = ''\n",
    "cnxn = pyodbc.connect('DRIVER={ODBC Driver 17 for SQL Server};SERVER='+server+';DATABASE='+database+';UID='+username+';PWD='+ password)\n",
    "cursor = cnxn.cursor()\n"
   ]
  },
  {
   "cell_type": "code",
   "execution_count": 3,
   "metadata": {},
   "outputs": [
    {
     "name": "stdout",
     "output_type": "stream",
     "text": [
      "Inserting a new row into table\n",
      "Successfully Inserted!\n",
      "Updating Location for Nikita\n",
      "Successfully Updated!\n"
     ]
    }
   ],
   "source": [
    "print ('Inserting a new row into table')\n",
    "#Insert Query\n",
    "tsql = \"INSERT INTO Employees (Name, Location) VALUES (?,?);\"\n",
    "with cursor.execute(tsql,'Jake','United States'):\n",
    "    print ('Successfully Inserted!')\n",
    "\n",
    "\n",
    "#Update Query\n",
    "print ('Updating Location for Nikita')\n",
    "tsql = \"UPDATE Employees SET Location = ? WHERE Name = ?\"\n",
    "with cursor.execute(tsql,'Sweden','Nikita'):\n",
    "    print ('Successfully Updated!')\n",
    "\n"
   ]
  },
  {
   "cell_type": "code",
   "execution_count": 4,
   "metadata": {},
   "outputs": [
    {
     "name": "stdout",
     "output_type": "stream",
     "text": [
      "Deleting user Jared\n",
      "Successfully Deleted!\n",
      "Reading data from table\n",
      "Nikita Sweden\n",
      "Tom Germany\n",
      "Jake United States\n",
      "Jake United States\n"
     ]
    }
   ],
   "source": [
    "\n",
    "#Delete Query\n",
    "print ('Deleting user Jared')\n",
    "tsql = \"DELETE FROM Employees WHERE Name = ?\"\n",
    "with cursor.execute(tsql,'Jared'):\n",
    "    print ('Successfully Deleted!')\n",
    "\n",
    "\n",
    "#Select Query\n",
    "print ('Reading data from table')\n",
    "tsql = \"SELECT Name, Location FROM Employees;\"\n",
    "with cursor.execute(tsql):\n",
    "    row = cursor.fetchone()\n",
    "    while row:\n",
    "        print (str(row[0]) + \" \" + str(row[1]))\n",
    "        row = cursor.fetchone()"
   ]
  },
  {
   "cell_type": "code",
   "execution_count": null,
   "metadata": {},
   "outputs": [],
   "source": []
  },
  {
   "cell_type": "code",
   "execution_count": null,
   "metadata": {},
   "outputs": [],
   "source": []
  },
  {
   "cell_type": "code",
   "execution_count": null,
   "metadata": {},
   "outputs": [],
   "source": []
  },
  {
   "cell_type": "code",
   "execution_count": null,
   "metadata": {},
   "outputs": [],
   "source": []
  }
 ],
 "metadata": {
  "kernelspec": {
   "display_name": "Python 3",
   "language": "python",
   "name": "python3"
  },
  "language_info": {
   "codemirror_mode": {
    "name": "ipython",
    "version": 3
   },
   "file_extension": ".py",
   "mimetype": "text/x-python",
   "name": "python",
   "nbconvert_exporter": "python",
   "pygments_lexer": "ipython3",
   "version": "3.7.4"
  }
 },
 "nbformat": 4,
 "nbformat_minor": 2
}
